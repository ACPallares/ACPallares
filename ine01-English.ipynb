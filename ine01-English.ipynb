{
 "cells": [
  {
   "cell_type": "markdown",
   "metadata": {},
   "source": [
    "# ANALYSIS OF SPAIN DEMOGRAPHIC DATA - PART I\n",
    "\n",
    "## Introduction\n",
    "\n",
    "This work aims to analyze, via python, the demographic data of __INE - Instituto Nacional de Estadística de España__.\n",
    "\n",
    "\n",
    "\n",
    "Let's use some libraries like:\n",
    "\n",
    "- __Beautiful Soup__: is a library (version 4.9.3) that facilitates the extraction (scrap) of information from web pages.\n",
    "- __html5lib__: is a pure python library (version 1.1) for parsing HTML. It is designed to conform to the WHATWG HTML specification (__W__eb __H__ypertext __A__pplication __T__echnology __W__orking __G__roup), as implemented by all major web browsers.\n",
    "- __Requests__: is a simple HTTP library (version 2.24.0) that allows you to send HTTP/1.1 requests with some ease. There is no need to manually add Query Strings to your URLs or encode PUT & POST data. Nowadays, just use the json method.\n",
    "\n",
    "Let's then install and import these libraries. If installed, the message: \"Requirement already satisfied\" will appear. Let's check their versions."
   ]
  },
  {
   "cell_type": "code",
   "execution_count": 82,
   "metadata": {},
   "outputs": [
    {
     "name": "stdout",
     "output_type": "stream",
     "text": [
      "Requirement already satisfied: beautifulsoup4 in c:\\users\\usuario\\anaconda3\\lib\\site-packages (4.9.3)\n",
      "Requirement already satisfied: soupsieve>1.2; python_version >= \"3.0\" in c:\\users\\usuario\\anaconda3\\lib\\site-packages (from beautifulsoup4) (2.0.1)\n",
      "Requirement already satisfied: requests in c:\\users\\usuario\\anaconda3\\lib\\site-packages (2.24.0)\n",
      "Requirement already satisfied: urllib3!=1.25.0,!=1.25.1,<1.26,>=1.21.1 in c:\\users\\usuario\\anaconda3\\lib\\site-packages (from requests) (1.25.11)\n",
      "Requirement already satisfied: certifi>=2017.4.17 in c:\\users\\usuario\\anaconda3\\lib\\site-packages (from requests) (2020.6.20)\n",
      "Requirement already satisfied: chardet<4,>=3.0.2 in c:\\users\\usuario\\anaconda3\\lib\\site-packages (from requests) (3.0.4)\n",
      "Requirement already satisfied: idna<3,>=2.5 in c:\\users\\usuario\\anaconda3\\lib\\site-packages (from requests) (2.10)\n",
      "Requirement already satisfied: html5lib in c:\\users\\usuario\\anaconda3\\lib\\site-packages (1.1)\n",
      "Requirement already satisfied: webencodings in c:\\users\\usuario\\anaconda3\\lib\\site-packages (from html5lib) (0.5.1)\n",
      "Requirement already satisfied: six>=1.9 in c:\\users\\usuario\\anaconda3\\lib\\site-packages (from html5lib) (1.15.0)\n"
     ]
    }
   ],
   "source": [
    "!pip install beautifulsoup4\n",
    "!pip install requests\n",
    "!pip install html5lib\n"
   ]
  },
  {
   "cell_type": "code",
   "execution_count": 83,
   "metadata": {},
   "outputs": [],
   "source": [
    "import sys\n",
    "\n",
    "import requests\n",
    "from bs4 import BeautifulSoup\n",
    "import re\n",
    "import unicodedata\n",
    "import pandas as pd"
   ]
  },
  {
   "cell_type": "code",
   "execution_count": 84,
   "metadata": {},
   "outputs": [
    {
     "name": "stdout",
     "output_type": "stream",
     "text": [
      "Name: beautifulsoup4\n",
      "Version: 4.9.3\n",
      "Summary: Screen-scraping library\n",
      "Home-page: http://www.crummy.com/software/BeautifulSoup/bs4/\n",
      "Author: Leonard Richardson\n",
      "Author-email: leonardr@segfault.org\n",
      "License: MIT\n",
      "Location: c:\\users\\usuario\\anaconda3\\lib\\site-packages\n",
      "Requires: soupsieve\n",
      "Required-by: conda-build\n",
      "Note: you may need to restart the kernel to use updated packages.\n"
     ]
    }
   ],
   "source": [
    "pip show beautifulsoup4"
   ]
  },
  {
   "cell_type": "code",
   "execution_count": 85,
   "metadata": {},
   "outputs": [
    {
     "name": "stdout",
     "output_type": "stream",
     "text": [
      "Name: html5lib\n",
      "Version: 1.1\n",
      "Summary: HTML parser based on the WHATWG HTML specification\n",
      "Home-page: https://github.com/html5lib/html5lib-python\n",
      "Author: None\n",
      "Author-email: None\n",
      "License: MIT License\n",
      "Location: c:\\users\\usuario\\anaconda3\\lib\\site-packages\n",
      "Requires: webencodings, six\n",
      "Required-by: \n",
      "Note: you may need to restart the kernel to use updated packages.\n"
     ]
    }
   ],
   "source": [
    "pip show html5lib"
   ]
  },
  {
   "cell_type": "code",
   "execution_count": 86,
   "metadata": {},
   "outputs": [
    {
     "name": "stdout",
     "output_type": "stream",
     "text": [
      "Name: requests\n",
      "Version: 2.24.0\n",
      "Summary: Python HTTP for Humans.\n",
      "Home-page: https://requests.readthedocs.io\n",
      "Author: Kenneth Reitz\n",
      "Author-email: me@kennethreitz.org\n",
      "License: Apache 2.0\n",
      "Location: c:\\users\\usuario\\anaconda3\\lib\\site-packages\n",
      "Requires: certifi, idna, urllib3, chardet\n",
      "Required-by: torchvision, Sphinx, nba-api, jupyterlab-server, jupyter-dash, folium, conda, conda-build, anaconda-project, anaconda-client\n",
      "Note: you may need to restart the kernel to use updated packages.\n"
     ]
    }
   ],
   "source": [
    "pip show requests"
   ]
  },
  {
   "attachments": {
    "image.png": {
     "image/png": "[encoded data removed]"
    }
   },
   "cell_type": "markdown",
   "metadata": {},
   "source": [
    "## Task 1:\n",
    "\n",
    "Let's do \"web scrapping\" on a www.ine.es page. This page will refer to \"__Relación de Comunidades y Ciudades Autónomas con sus Códigos__\", and which is in HTML, as you can see in the figure below where you can see an extract of the table in HTML, with two columns: __Código__ and __Literal__:\n",
    "![image.png](attachment:image.png)\n",
    "This table presents itself as the first political division of the country Spain. Thus, from these codes it is possible to have a \"TopDown\" view of the Spanish demography.\n",
    "\n",
    "The page is: \n",
    "\n",
    "                    www.ine.es/daco/daco42/codmun/cod_ccaa.htm,\n",
    "                    \n",
    "and the first action is to create a variable with the page URL:"
   ]
  },
  {
   "cell_type": "code",
   "execution_count": 87,
   "metadata": {},
   "outputs": [
    {
     "data": {
      "text/plain": [
       "'https://www.ine.es/daco/daco42/codmun/cod_ccaa.htm'"
      ]
     },
     "execution_count": 87,
     "metadata": {},
     "output_type": "execute_result"
    }
   ],
   "source": [
    "url_estatica = \"https://www.ine.es/daco/daco42/codmun/cod_ccaa.htm\"\n",
    "url_estatica"
   ]
  },
  {
   "cell_type": "markdown",
   "metadata": {},
   "source": [
    "Let's execute a __HTTP GET__ method to request the HTML page designated in the <code>static_url</code> variable as an HTTP response (response). The __200__ response signals 'Success - OK', that is, the Request was received, understood and accepted with success. Note that two ways of exposing the status code were used, but that there is still a specific method <code>status_code</code> that explains the answer, clear and crystal clear."
   ]
  },
  {
   "cell_type": "code",
   "execution_count": 88,
   "metadata": {},
   "outputs": [
    {
     "name": "stdout",
     "output_type": "stream",
     "text": [
      "<Response [200]>\n",
      "200\n"
     ]
    }
   ],
   "source": [
    "resposta_scrap = requests.get(url_estatica)\n",
    "print(resposta_scrap)\n",
    "print(resposta_scrap.status_code)"
   ]
  },
  {
   "cell_type": "markdown",
   "metadata": {},
   "source": [
    "Let's create a BeautifulSoup object (__soup__) from response or HTML response and then we'll print the page title to check if the BeautifulSoup object (__soup__) was created correctly:"
   ]
  },
  {
   "cell_type": "code",
   "execution_count": 89,
   "metadata": {},
   "outputs": [
    {
     "data": {
      "text/plain": [
       "<title>INEbase/ Clasificaciones /Relación de municipios, provincias, comunidades y ciudades autónomas con sus códigos / Relación de comunidades y ciudades autónomas con sus códigos</title>"
      ]
     },
     "execution_count": 89,
     "metadata": {},
     "output_type": "execute_result"
    }
   ],
   "source": [
    "# estamos usando o html5lib como o parser\n",
    "soup = BeautifulSoup(resposta_scrap.content,'html5lib' )\n",
    "soup.title"
   ]
  },
  {
   "attachments": {
    "image.png": {
     "image/png": "[encoded data removed]"
    }
   },
   "cell_type": "markdown",
   "metadata": {},
   "source": [
    "Let's now extract all column/variable names from the HTML table header. For that, let's try to find all tables on the page first.\n",
    "\n",
    "The __find_all()__ method examines a tag's descendants and retrieves all that match your filters.\n",
    "\n",
    "A __descendant__ refers to whatever element is connected, however farther down the document tree - no matter how many levels down. In the diagram below, taken from the Simmons University website, all elements that are connected below the $<div>$ element are descendants of this $<div>$. The following figure summarizes this:\n",
    " ![image.png](attachment:image.png) \n",
    " \n",
    "    "
   ]
  },
  {
   "cell_type": "code",
   "execution_count": 90,
   "metadata": {},
   "outputs": [
    {
     "data": {
      "text/plain": [
       "1"
      ]
     },
     "execution_count": 90,
     "metadata": {},
     "output_type": "execute_result"
    }
   ],
   "source": [
    "html_tables = soup.find_all('table')\n",
    "len(html_tables)"
   ]
  },
  {
   "cell_type": "markdown",
   "metadata": {},
   "source": [
    "Note that there is only one table, because the presentation of <code>html_tables</code> is in the form of lists and thus its length (len) is only 1 (__just one__) list. It is worth noting that the tags contained in the table have the following meaning:\n",
    "- $<th></th>$ specifies a table heading, more specifically the column name.\n",
    "- $<tr></tr>$ specifies a table row.\n",
    "- $<td></td>$ specifies a table cell, or, in other words, a value referring to the crossing row X column.\n",
    "- $<tbody></tbody>$ specifies a table body, that is, the table with its values itself.\n",
    "- $<table></table>$ specifies a table\n",
    "\n",
    "Let's check the table's content, still in HTML with <code>html_tables[0]</code>, assign the table content to the <code>first_table</code> variable and then check the column names, through commands python:"
   ]
  },
  {
   "cell_type": "code",
   "execution_count": 91,
   "metadata": {},
   "outputs": [
    {
     "data": {
      "text/plain": [
       "<table class=\"miTabla\" summary=\"Tabla códigos\">\n",
       "  <tbody><tr class=\"diezcarne\">\n",
       "\n",
       "    <th align=\"left\">Código</th> \n",
       "    <th align=\"left\">Literal</th>\n",
       "    </tr>\n",
       "  <tr valign=\"bottom\">\n",
       "    <td>01 </td>\n",
       "    <td>Andalucía</td>\n",
       "    </tr>\n",
       "<tr valign=\"bottom\">\n",
       "  <td>02 </td>\n",
       "    <td>Aragón</td>\n",
       "    </tr>\n",
       "<tr valign=\"bottom\">\n",
       "  <td>03 </td>\n",
       "    <td>Asturias, Principado de</td>\n",
       "    </tr>\n",
       "<tr valign=\"bottom\">\n",
       "  <td>04 </td>\n",
       "    <td>Balears, Illes</td>\n",
       "    </tr>\n",
       "<tr valign=\"bottom\">\n",
       "  <td>05 </td>\n",
       "    <td>Canarias</td>\n",
       "    </tr>\n",
       "<tr valign=\"bottom\">\n",
       "  <td>06 </td>\n",
       "    <td>Cantabria</td>\n",
       "    </tr>\n",
       "<tr valign=\"bottom\">\n",
       "  <td>07 </td>\n",
       "    <td>Castilla y León</td>\n",
       "    </tr>\n",
       "<tr valign=\"bottom\">\n",
       "  <td>08 </td>\n",
       "    <td>Castilla - La Mancha</td>\n",
       "    </tr>\n",
       "<tr valign=\"bottom\">\n",
       "  <td>09 </td>\n",
       "    <td>Cataluña</td>\n",
       "    </tr>\n",
       "<tr valign=\"bottom\">\n",
       "  <td>10 </td>\n",
       "    <td>Comunitat Valenciana</td>\n",
       "    </tr>\n",
       "<tr valign=\"bottom\">\n",
       "  <td>11 </td>\n",
       "    <td>Extremadura</td>\n",
       "    </tr>\n",
       "<tr valign=\"bottom\">\n",
       "  <td>12 </td>\n",
       "    <td>Galicia</td>\n",
       "    </tr>\n",
       "<tr valign=\"bottom\">\n",
       "  <td>13 </td>\n",
       "    <td>Madrid, Comunidad de</td>\n",
       "    </tr>\n",
       "<tr valign=\"bottom\">\n",
       "  <td>14 </td>\n",
       "    <td>Murcia, Región de</td>\n",
       "    </tr>\n",
       "<tr valign=\"bottom\">\n",
       "  <td>15 </td>\n",
       "    <td>Navarra, Comunidad Foral de</td>\n",
       "    </tr>\n",
       "<tr valign=\"bottom\">\n",
       "  <td>16 </td>\n",
       "    <td>País Vasco</td>\n",
       "    </tr>\n",
       "<tr valign=\"bottom\">\n",
       "  <td>17 </td>\n",
       "    <td>Rioja, La</td>\n",
       "    </tr>\n",
       "<tr valign=\"bottom\">\n",
       "  <td>18 </td>\n",
       "    <td>Ceuta</td>\n",
       "    </tr>\n",
       "<tr valign=\"bottom\">\n",
       "  <td>19 </td>\n",
       "    <td>Melilla</td>\n",
       "    </tr>\n",
       "  \n",
       "</tbody></table>"
      ]
     },
     "execution_count": 91,
     "metadata": {},
     "output_type": "execute_result"
    }
   ],
   "source": [
    "html_tables[0]"
   ]
  },
  {
   "cell_type": "code",
   "execution_count": 92,
   "metadata": {},
   "outputs": [],
   "source": [
    "\n",
    "primeira_tabela=html_tables[0]"
   ]
  },
  {
   "cell_type": "markdown",
   "metadata": {},
   "source": [
    "Let's check the table class. The __class__ attribute assigns one or more class names to the $<table>$ tag. Class names are defined in a __stylesheet__ or a local $<style>$ element. Classes, that is, class names, are used to style elements. A __stylesheet__ is a file that tells the browser how to render a page. This topic deserves to be discussed in HTML learning.\n"
   ]
  },
  {
   "cell_type": "code",
   "execution_count": 93,
   "metadata": {},
   "outputs": [
    {
     "name": "stdout",
     "output_type": "stream",
     "text": [
      "Classe de cada tabela:\n",
      "['miTabla']\n"
     ]
    }
   ],
   "source": [
    "print('Classe de cada tabela:')\n",
    "for table in soup.find_all('table'):\n",
    "    print(table.get('class'))"
   ]
  },
  {
   "cell_type": "markdown",
   "metadata": {},
   "source": [
    "In the code presented below and which aims to remove the names of the columns from the table inserted in __primera_tabela__ we will use:\n",
    "\n",
    "\n",
    "- The __find_all()__ method that will examine the descendants of a $th$ tag and retrieve all that match your filters.\n",
    "- The __get_text()__ method, to get only the text part of a document or tag. It returns all text in a document or below a tag, as a single Unicode string.\n",
    "- The __rstrip()__ method returns a copy of the string in which all characters have been removed from the (right) end of the string (white space characters by default). In parentheses you can define other characters to be suppressed.\n",
    "\n",
    "To better understand these methods, let's run them separately so that the purpose of each method is clear. Firstly, __html_tables__ contains the HTML file, which is quite extensive, as you can see in the cell commands above. Second, let's run the\n",
    "__column = first_table.find_all(\"th\")__ and print the result:"
   ]
  },
  {
   "cell_type": "code",
   "execution_count": 94,
   "metadata": {},
   "outputs": [
    {
     "name": "stdout",
     "output_type": "stream",
     "text": [
      "[<th align=\"left\">Código</th>, <th align=\"left\">Literal</th>]\n",
      "2\n"
     ]
    }
   ],
   "source": [
    "column = primeira_tabela.find_all(\"th\")\n",
    "print(column)\n",
    "print(len(column))"
   ]
  },
  {
   "attachments": {
    "image.png": {
     "image/png": "[encoded data removed]"
    }
   },
   "cell_type": "markdown",
   "metadata": {},
   "source": [
    "\n",
    "It is observed that the result of the above command:\n",
    "\n",
    "![image.png](attachment:image.png)\n",
    "\n",
    "It is a list with two th elements, that is, with two column names.\n",
    "In sequence, when executing the following commands indicating a value between square brackets, we seek to individualize the elements of the list that are two, as shown by __len()__. We ran it 3 times, where [0] and [1] present the column names, and [2] already gives __error__ because the third element doesn't exist."
   ]
  },
  {
   "cell_type": "code",
   "execution_count": 95,
   "metadata": {},
   "outputs": [
    {
     "data": {
      "text/plain": [
       "<th align=\"left\">Código</th>"
      ]
     },
     "execution_count": 95,
     "metadata": {},
     "output_type": "execute_result"
    }
   ],
   "source": [
    "column0 = primeira_tabela.find_all(\"th\")[0]\n",
    "column0"
   ]
  },
  {
   "cell_type": "code",
   "execution_count": 96,
   "metadata": {},
   "outputs": [
    {
     "data": {
      "text/plain": [
       "<th align=\"left\">Literal</th>"
      ]
     },
     "execution_count": 96,
     "metadata": {},
     "output_type": "execute_result"
    }
   ],
   "source": [
    "column1 = primeira_tabela.find_all(\"th\")[1]\n",
    "column1"
   ]
  },
  {
   "cell_type": "code",
   "execution_count": 97,
   "metadata": {},
   "outputs": [
    {
     "ename": "IndexError",
     "evalue": "list index out of range",
     "output_type": "error",
     "traceback": [
      "\u001b[1;31m---------------------------------------------------------------------------\u001b[0m",
      "\u001b[1;31mIndexError\u001b[0m                                Traceback (most recent call last)",
      "\u001b[1;32m<ipython-input-97-6f654df42c00>\u001b[0m in \u001b[0;36m<module>\u001b[1;34m\u001b[0m\n\u001b[1;32m----> 1\u001b[1;33m \u001b[0mcolumn2\u001b[0m \u001b[1;33m=\u001b[0m \u001b[0mprimeira_tabela\u001b[0m\u001b[1;33m.\u001b[0m\u001b[0mfind_all\u001b[0m\u001b[1;33m(\u001b[0m\u001b[1;34m\"th\"\u001b[0m\u001b[1;33m)\u001b[0m\u001b[1;33m[\u001b[0m\u001b[1;36m2\u001b[0m\u001b[1;33m]\u001b[0m\u001b[1;33m\u001b[0m\u001b[1;33m\u001b[0m\u001b[0m\n\u001b[0m\u001b[0;32m      2\u001b[0m \u001b[0mcolumn2\u001b[0m\u001b[1;33m\u001b[0m\u001b[1;33m\u001b[0m\u001b[0m\n",
      "\u001b[1;31mIndexError\u001b[0m: list index out of range"
     ]
    }
   ],
   "source": [
    "column2 = primeira_tabela.find_all(\"th\")[2]\n",
    "column2"
   ]
  },
  {
   "attachments": {
    "image.png": {
     "image/png": "[encoded data removed]"
    }
   },
   "cell_type": "markdown",
   "metadata": {},
   "source": [
    "The error is verified and that a division of the list was made and that resulted in:\n",
    "\n",
    "![image.png](attachment:image.png)\n",
    "\n",
    "Where you can see the two \"th\" tags highlighting the column names, but which are still surrounded by HTML elements. The next step is to get the text without the tags. And for that we will use the __get_text()__ method, as follows::"
   ]
  },
  {
   "cell_type": "code",
   "execution_count": null,
   "metadata": {},
   "outputs": [],
   "source": [
    "column00 = primeira_tabela.find_all(\"th\")[0].get_text()\n",
    "column00"
   ]
  },
  {
   "cell_type": "code",
   "execution_count": null,
   "metadata": {},
   "outputs": [],
   "source": [
    "column11 = primeira_tabela.find_all(\"th\")[1].get_text()\n",
    "column11"
   ]
  },
  {
   "attachments": {
    "image.png": {
     "image/png": "[encoded data removed]"
    }
   },
   "cell_type": "markdown",
   "metadata": {},
   "source": [
    "It is verified that the __get_text()__ method separates the names associated in the 'th' tags:\n",
    "![image.png](attachment:image.png)\n",
    "\n",
    "They're separated now. So what is __rstrip()__ for?. It would work if these column names were as shown below, that is, with characters to the right of the string that were unwanted:\n"
   ]
  },
  {
   "cell_type": "code",
   "execution_count": null,
   "metadata": {},
   "outputs": [],
   "source": [
    "a = 'Codigo><!*&& '\n",
    "b = 'Literal< ##$* '\n",
    "print(a,b)"
   ]
  },
  {
   "cell_type": "code",
   "execution_count": null,
   "metadata": {},
   "outputs": [],
   "source": [
    "aa=a.rstrip('*>&<! ')\n",
    "bb=b.rstrip('*#$<! ')\n",
    "print(aa,bb)"
   ]
  },
  {
   "cell_type": "markdown",
   "metadata": {},
   "source": [
    "The objective will now be to create a Pandas Dataframe by analyzing (parsing) the HTML table, whose data is in a URL designated in **url_statica**.\n",
    "Let's use a Pandas solution which is **read.html()** and whose result is a **dfs1** list with one element. Thus, to access as a dataframe, just access **dfs1[0]**, assigning to another variable **df1**, which will be a **Dataframe**.\n",
    "\n",
    "I recommend accessing the website:\n",
    "\n",
    "        https://towardsdatascience.com/a-guide-to-scraping-html-tables-with-pandas-and-beautifulsoup-7fc24c331cf7, \n",
    "        \n",
    "which is very explanatory in the use of this solution:"
   ]
  },
  {
   "cell_type": "code",
   "execution_count": null,
   "metadata": {},
   "outputs": [],
   "source": [
    "pagina = requests.get(url_estatica)\n",
    "soup = BeautifulSoup(pagina.text, 'html5lib')\n",
    "\n",
    "dfs1 = pd.read_html(pagina.text)\n",
    "df1 = dfs1[0]\n",
    "df1.head()"
   ]
  },
  {
   "cell_type": "code",
   "execution_count": null,
   "metadata": {},
   "outputs": [],
   "source": [
    "df1.info()"
   ]
  },
  {
   "cell_type": "code",
   "execution_count": null,
   "metadata": {},
   "outputs": [],
   "source": [
    "df1.to_csv('ine0.csv', index=False)"
   ]
  },
  {
   "attachments": {
    "image-2.png": {
     "image/png": "[encoded data removed]"
    }
   },
   "cell_type": "markdown",
   "metadata": {},
   "source": [
    "## Task 2:\n",
    "\n",
    "Define the INE files to be downloaded to provide a statistical analysis on the demography of Spain. For the purpose of transferring these files, make one with Panda resources (xls, for example) and another via json.\n",
    "To understand better, it is worth explaining the following, which is in Spanish:\n",
    "\n",
    "*Artículo 137. Municipios, provincias y Comunidades Autónomas*\n",
    "\n",
    "*El Estado se organiza territorialmente en **municipios, en provincias y en las Comunidades Autónomas** que se constituyan. Todas estas entidades gozan de autonomía para la gestión de sus respectivos intereses.*\n",
    "\n",
    "*Artículo 141. Las provincias. Las islas*\n",
    "\n",
    "*La provincia es una entidad local con personalidad jurídica propia, determinada por **la agrupación de municipios** y división territorial para el cumplimiento de las actividades del Estado. Cualquier alteración de los límites provinciales habrá de ser aprobada por las Cortes Generales mediante ley orgánica.*\n",
    "\n",
    "Therefore, the figure (written in portuguese) below summarizes the organization in Spain:\n",
    "![image-2.png](attachment:image-2.png)\n",
    "\n",
    "Thus, since we have already obtained the list of communities and autonomous cities, in the form of a dataframe, we should obtain the list of provinces by communities and that of municipalities by provinces. As these are available in HTML tables, let's get them the same way we got them from autonomous communities and cities.\n",
    "\n",
    "The one for provinces by autonomous communities is on the website: \n",
    "\n",
    "                        https://www.ine.es/daco/daco42/codmun/cod_ccaa_provincia.htm\n",
    "\n",
    "The municipalities by provinces can be found on the website:\n",
    "\n",
    "                        https://www.ine.es/daco/daco42/codmun/22codmun.xlsx\n",
    "                        \n",
    "- Note: I left the links disabled because it downloads directly from an xlsx file (excel)\n",
    "\n",
    "So, let's create two dataframes for these two files, the first being, in the same way as the previous file and the second using the xlsx file. Be aware of the data types of these tables, especially the columns referring to codes, as some are not of type numeric, that is, integers. For that, it was necessary to change to an integer type to be able to use it in the comparisons related to **if** :\n"
   ]
  },
  {
   "cell_type": "code",
   "execution_count": null,
   "metadata": {},
   "outputs": [],
   "source": [
    "url1_estatica=\"https://www.ine.es/daco/daco42/codmun/cod_ccaa_provincia.htm\"\n",
    "\n",
    "pagina1 = requests.get(url1_estatica)\n",
    "soup = BeautifulSoup(pagina1.text, 'html5lib')\n",
    "\n",
    "dfs11 = pd.read_html(pagina1.text)\n",
    "df11 = dfs11[0]\n",
    "df11 = df11.dropna()\n",
    "df11 = df11.astype({'CODAUTO':int,'CPRO':int})\n",
    "df11.head(5)"
   ]
  },
  {
   "cell_type": "markdown",
   "metadata": {},
   "source": [
    "Thus, since we have already obtained the list of communities and autonomous cities, in the form of a dataframe, we should obtain the list of provinces by communities and that of municipalities by provinces. As these are available in HTML tables, let's get them the same way we got them from autonomous communities and cities.\n",
    "\n",
    "The one for provinces by autonomous communities is on the website: https://www.ine.es/daco/daco42/codmun/cod_ccaa_provincia.htm\n",
    "\n",
    "Within the Top-Down view, we will apply **groupby** with **size()** to create a dataframe from which we will see a first graph on **Quantidade de Províncias pelas 19 Comunidades Autônomas/ilhas**.\n",
    "\n",
    "Then we will draw up a graph showing \"**Quantidade de Municípios pelas 19 Comunidades Autônomas/ilhas**\".\n",
    "And, finally, we are going to draw up a graph showing \"**Quantidade de Municípios pelas 50 Províncias**\".\n",
    "\n",
    "We will also apply **sort_values()** to sort these reported quantities in descending order. And let's export as csv for future uses:"
   ]
  },
  {
   "cell_type": "code",
   "execution_count": null,
   "metadata": {},
   "outputs": [],
   "source": [
    "dfs111 = df11.groupby(['Comunidad Autónoma']).size().reset_index(name='Quant Provincias')\n",
    "print('Total de Províncias :',dfs111.sum())\n",
    "dfs111.sort_values(by=['Quant Provincias'],inplace=True,ascending=False)\n",
    "dfs111.to_csv('dfs111.csv',index=False)\n",
    "dfs111.head()"
   ]
  },
  {
   "cell_type": "code",
   "execution_count": null,
   "metadata": {},
   "outputs": [],
   "source": [
    "ax = dfs111.plot.bar(x='Comunidad Autónoma',rot=90, figsize= (18,10),fontsize=15,title=\n",
    "                     \"Quantidade de Províncias x Comunidade Autônoma \")"
   ]
  },
  {
   "attachments": {
    "image-2.png": {
     "image/png": "[encoded data removed]"
    },
    "image-3.png": {
     "image/png": "[encoded data removed]"
    },
    "image.png": {
     "image/png": "[encoded data removed]"
    }
   },
   "cell_type": "markdown",
   "metadata": {},
   "source": [
    "Recapitulating, we created the **df1** generated from the INE data download (raw data) and which has the following format:\n",
    "                                        ![image.png](attachment:image.png)\n",
    "                                        \n",
    "Next, we created the **df11** generated from the download of INE data, which shows the association of autonomous communities with the provinces, , and which has the following format:\n",
    "                                       ![image-2.png](attachment:image-2.png)\n",
    "                                       \n",
    "Then we created the **dfs111** generated from **df11**, associating the quantities of provinces in the autonomous communities, and ordering them in ascending order and serving to present the graph of __quantidade de províncias X comunidades autônomas__   , presenting the following format :\n",
    "                                        ![image-3.png](attachment:image-3.png)\n",
    "\n",
    "\n",
    "We are now going to act on the **quantidade de municípios por províncias**. For this, we are going to download the data that list the municipalities, in the **dfs12** dataframe and make a first adaptation to inform which province they, the municipalities, are associated with. Let's create columns in **dfs12** to fill in the names of the autonomous communities and provinces, which are just their codes."
   ]
  },
  {
   "cell_type": "code",
   "execution_count": null,
   "metadata": {},
   "outputs": [],
   "source": [
    "url2_estatica=\"https://www.ine.es/daco/daco42/codmun/diccionario22.xlsx\"\n",
    "# usei header=None para excluir um header vindo do excel e usei o skiprows[0] para excluir a primeira linha\n",
    "dfs12 = pd.read_excel(url2_estatica, header=None,skiprows=[0]) \n",
    "dfs12 = dfs12.iloc[1:,:]\n",
    "dfs12 = dfs12.rename(columns={0:'CODAUTO',1:'CPRO',2:'CMUN',3:'DC',4:'NOMBRE'})\n",
    "\n",
    "dfs12 = dfs12.astype({'CODAUTO':int,'CPRO':int,'CMUN':int,'DC':int}, copy=False)\n",
    "dfs12[\"COMAUT\"]=\"\"\n",
    "dfs12[\"PROVINCIA\"]=\"\"\n",
    "dfs12.rename(columns={'NOMBRE':'MUNICIPIO'}, inplace = True)\n",
    "dfs12.reset_index()\n",
    "dfs12.head()"
   ]
  },
  {
   "attachments": {
    "image-2.png": {
     "image/png": "[encoded data removed]"
    }
   },
   "cell_type": "markdown",
   "metadata": {},
   "source": [
    "As mentioned above, in the **dfs12** dataframe, two columns were created to contain the name of the Autonomous Communities and Provinces, as the Municipalities were already there. The following logic was made in order to __fill these two columns__ in the **dfs12** itself:\n",
    "\n",
    "Note: It is a bit long process as can be seen in the extract of the following figure program that shows \"program running\" (Programa em execução) and \"no program running\" (Nenhum programa em execução) :\n",
    "                                    ![image-2.png](attachment:image-2.png)\n",
    "                                    \n",
    "It is explained to deal with a change in a dataframe with 8131 rows X 7 columns.\n"
   ]
  },
  {
   "cell_type": "code",
   "execution_count": null,
   "metadata": {},
   "outputs": [],
   "source": [
    "\n",
    "j=0\n",
    "for i in df1.index:\n",
    "    f1 = df1.iloc[j][0]\n",
    "    f2 = df1.iloc[j][1]\n",
    "    # print(f1)\n",
    "    # print(f2)\n",
    "    l = 0\n",
    "    for k in dfs12.index:\n",
    "        f3 = dfs12.iloc[l][0]\n",
    "        if f3 == f1:\n",
    "            dfs12.at[l,\"COMAUT\"] = f2\n",
    "        l = l + 1\n",
    "    j = j + 1\n",
    "m = 0\n",
    "for p in df11.index:\n",
    "    f5 = df11.iloc[m][2]\n",
    "    f6 = df11.iloc[m][3]\n",
    "    n = 0\n",
    "    for q in dfs12.index:\n",
    "        f7 = dfs12.iloc[n][1]\n",
    "        if f7 == f5:\n",
    "            dfs12.at[n,\"PROVINCIA\"] = f6\n",
    "        n = n + 1\n",
    "    m = m + 1\n",
    "dfs12.head(4)"
   ]
  },
  {
   "cell_type": "markdown",
   "metadata": {},
   "source": [
    "In the following code, **dfs122** will be created, which will extract the columns containing the names of the autonomous communities and provinces. The municipalities were already:"
   ]
  },
  {
   "cell_type": "code",
   "execution_count": null,
   "metadata": {},
   "outputs": [],
   "source": [
    "dfs122 = dfs12[['CODAUTO','COMAUT','CPRO','PROVINCIA','CMUN','MUNICIPIO']]\n",
    "dfs122.to_csv('dfs122.csv',index=False)\n",
    "dfs122.head(3)\n"
   ]
  },
  {
   "cell_type": "markdown",
   "metadata": {},
   "source": [
    "About **dfs122** we will perform **groupby() by Autonomous Community**, to make the proper grouping of Autonomous Communities with Municipalities, **size()**, to total the number of municipalities by communities, **sort()**, to make a descending order of the quantities and **drop()**, to delete the line of index \"zero\" that does not refer to any item. In this way, we extract information related to **8131** municipalities. This result will be directed to the dataframe **dfs122a** and then exported as csv to the local file **dfs122a.csv**:"
   ]
  },
  {
   "cell_type": "code",
   "execution_count": null,
   "metadata": {},
   "outputs": [],
   "source": [
    "dfs122a = dfs122.groupby(['COMAUT']).size().reset_index(name='QUANT MUNICÍPIOS')\n",
    "dfs122a.sort_values(by=['QUANT MUNICÍPIOS'],inplace=True,ascending=False)\n",
    "dfs122a.drop([0],inplace=True)\n",
    "print('Total de Municipios :',dfs122a.sum())\n",
    "dfs122a.to_csv('dfs122a.csv',index=False)\n",
    "dfs122a.head(3)"
   ]
  },
  {
   "cell_type": "code",
   "execution_count": null,
   "metadata": {},
   "outputs": [],
   "source": [
    "ax = dfs122a.plot.bar(x='COMAUT',rot=90, figsize= (16,10),fontsize=15,title=\n",
    "                     \"Quantidade de Municípios x Comunidade Autônoma \")"
   ]
  },
  {
   "cell_type": "markdown",
   "metadata": {},
   "source": [
    "Let's now draw up the graph \"Quantidade de municípios por Províncias\". To do so, let's create a **dfs122b** dataframe that will be a **groupby() by provinces** to make the proper grouping of Provinces with Municipalities, **size()**, to total the number of municipalities by provinces , **sort()**, to make a descending order of the quantities and **drop()**, to delete the line of index \"zero\" that does not refer to any item.\n",
    "\n",
    "In this way, we extract information related to **8131** municipalities. This result will be directed to the dataframe **dfs122b** and then exported as csv to the local file **dfs122b.csv**:"
   ]
  },
  {
   "cell_type": "code",
   "execution_count": null,
   "metadata": {},
   "outputs": [],
   "source": [
    "dfs122b = dfs122.groupby(['PROVINCIA']).size().reset_index(name='QUANT MUNICÍPIOS')\n",
    "dfs122b.sort_values(by=['QUANT MUNICÍPIOS'],inplace=True,ascending=False)\n",
    "dfs122b.to_csv('dfs122b.csv',index=False)\n",
    "dfs122b.head(5)"
   ]
  },
  {
   "cell_type": "code",
   "execution_count": null,
   "metadata": {},
   "outputs": [],
   "source": [
    "ax = dfs122b.plot.bar(x='PROVINCIA',rot=90, figsize= (20,10),fontsize=15,title=\n",
    "                     \"Quantidade de Municípios x Provincias\")"
   ]
  },
  {
   "cell_type": "markdown",
   "metadata": {},
   "source": [
    "For didactic purposes, below is the use of SQL to extract information on the number of municipalities, by autonomous communities, such as, for example, Castilla y León, which has 2248 municipalities:"
   ]
  },
  {
   "cell_type": "code",
   "execution_count": null,
   "metadata": {},
   "outputs": [],
   "source": [
    "import pandas as pd\n",
    "from pandasql import sqldf\n",
    "from sklearn import datasets\n",
    "pysqldf = lambda q: sqldf(q, globals())\n",
    "query = \"SELECT COMAUT,count(COMAUT) FROM dfs122 WHERE COMAUT = 'Castilla y León';\"\n",
    "\n",
    "pysqldf(query)\n",
    "    "
   ]
  },
  {
   "attachments": {
    "image.png": {
     "image/png": "[encoded data removed]"
    }
   },
   "cell_type": "markdown",
   "metadata": {},
   "source": [
    "## Task 3:\n",
    "\n",
    "Defining the INE files to be downloaded to verify the <u>demographic evolution of Spain as a whole</u> and highlighting data such as the general total, total Spaniards and total immigrants.\n",
    "\n",
    "After defining these files, define the data extraction/debugging methodology, and, next, prepare the analytical graphs.\n",
    "\n",
    "The first information, which refers to Spain national data, will be extracted from the website:\n",
    "\n",
    "                        https://www.ine.es/consul/serie.do?d=true&s=CP335&c=2&,\n",
    "\n",
    "and which has the following format in HTML page:\n",
    "![image.png](attachment:image.png)\n",
    "\n",
    "\n"
   ]
  },
  {
   "cell_type": "code",
   "execution_count": null,
   "metadata": {},
   "outputs": [],
   "source": [
    "import sys\n",
    "import requests\n",
    "from bs4 import BeautifulSoup\n",
    "import re\n",
    "import unicodedata\n",
    "import pandas as pd\n",
    "import locale\n",
    "from locale import atof\n",
    "\n",
    "\n",
    "url_estatica31 = \"https://www.ine.es/consul/serie.do?d=true&s=CP335&c=2&\"\n",
    "\n",
    "pagina31 = requests.get(url_estatica31)\n",
    "soup31 = BeautifulSoup(pagina31.text, 'html5lib')\n",
    "\n",
    "dfs31 = pd.read_html(pagina31.text)\n",
    "\n",
    "df31 = dfs31[0]\n",
    "df31.head()\n"
   ]
  },
  {
   "cell_type": "markdown",
   "metadata": {},
   "source": [
    "As can be seen, the data contained in __dfs31__ were extracted from an HTML page and the result is a __dfs31__ list with one element, which is verified through __len(dfs31)__. Thus, to access as a dataframe, just designate __dfs31[0]__, to another variable __df31__, which will be a Dataframe.\n",
    "\n",
    "Next, as you can see in __df31__, the columns of interest are named __PERIODO__ and __VALOR__. So let's create a new dataframe, __df311__, with these two columns, and then we'll create a __dfs312__ dataframe, with an inversion of the order of the years, from 2015 to 2022.\n",
    "\n",
    "Next, let's create another dataframe, __dfs313__, which will have 15 rows (from 0 to 14) and 2 columns, with the indexes reset and the values ​​divided by '1000000', to simplify the graphical display. Could there be a simpler and more direct way? Yes, but it would lose the pedagogical role of what is being developed, to identify the obstacles that arise and how to overcome them.\n",
    "\n",
    "This whole task is part of debugging the data, so you can work more objectively."
   ]
  },
  {
   "cell_type": "code",
   "execution_count": null,
   "metadata": {},
   "outputs": [],
   "source": [
    "import pandas as pd\n",
    "pd.options.mode.chained_assignment = None  # default='warn'\n",
    "\n",
    "df311=df31[['PERIODO','VALOR']]\n",
    "df311['VALOR'] = (df311['VALOR'].replace('\\.','',regex=True).astype(float))\n",
    "\n",
    "df312 = df311[::-1]\n",
    "df312.reset_index(inplace=True)\n",
    "df313=df312[['PERIODO','VALOR']]\n",
    "df313['VALOR'] = df313['VALOR']. div(1000000). round(2)\n",
    "df313.head()"
   ]
  },
  {
   "cell_type": "code",
   "execution_count": null,
   "metadata": {},
   "outputs": [],
   "source": [
    "df311.info()"
   ]
  },
  {
   "cell_type": "markdown",
   "metadata": {},
   "source": [
    "And so, based on __df313__, a __plot.line()__ is elaborated, which shows the demographic evolution of Spain, from 2015 to 2022."
   ]
  },
  {
   "cell_type": "code",
   "execution_count": null,
   "metadata": {},
   "outputs": [],
   "source": [
    "import matplotlib.pyplot as plt\n",
    "\n",
    "ax = df313.plot.line(x='PERIODO',y='VALOR',rot=0,grid=True ,legend = True, fontsize=15,title=\n",
    "                     \"Evolução Demográfica Espanha (2015-2022), valores em Milhões\",\n",
    "                    yticks=[46.0,46.25,46.50,46.75,47.0,47.25,47.50,47.75,48.0],figsize= (16,8))"
   ]
  },
  {
   "attachments": {
    "image.png": {
     "image/png": "[encoded data removed]"
    }
   },
   "cell_type": "markdown",
   "metadata": {},
   "source": [
    "From the table and graph shown above, it can be seen that in the period from 2015 to 2022, the demographic evolution was from **46,449,565**, in **2015**, to **47,432,805**, in **2022**, denoting a growth in the period of **2.117%**. It is worth noting that this total of **47,432,805** includes the native spanish people, foreign immigrants and both sexes.\n",
    "\n",
    "Taken from the website:\n",
    "\n",
    "                    https://geo.dieese.org.br/suprof/indicadores/indicador_02.php\n",
    "                    \n",
    ", the following text is displayed in the figure in portuguese, explaining the topic of Growth Rate (Taxa de Crescimento):\n",
    "![image.png](attachment:image.png)\n",
    "Thus, the annual growth rate of the exposed in the period shown in Spain is approximately **0.299%**, as calculated below, using the **math** library, and remembering that the period is from 2015 to 2022, or be 7 years."
   ]
  },
  {
   "cell_type": "code",
   "execution_count": null,
   "metadata": {},
   "outputs": [],
   "source": [
    "import math\n",
    "result = ((math.pow(47.43/46.45,1/7) - 1)*100)\n",
    "result1=round(result,3)\n",
    "print(\"Taxa anual: \",result1)"
   ]
  },
  {
   "cell_type": "markdown",
   "metadata": {},
   "source": [
    "As Spain is part of the \"European Community\", some codes are used to characterize the countries that belong to \"**European Union**\" - \"**EU**. They are:\n",
    "- **UE15**: Comprises the following list of countries: Germany, Austria, Belgium, Denmark, Spain, Finland, France, Greece, Ireland, Italy, Luxembourg, Netherlands, Portugal, United Kingdom and Sweden.\n",
    "- **EU25**: Comprises the EU-15 countries plus Cyprus, Slovakia, Slovenia, Estonia, Hungary, Latvia, Lithuania, Malta, Poland and the Czech Republic.\n",
    "- **UE27_2007**: Comprises the EU-25 countries, plus Bulgaria and Romania.\n",
    "- **UE27_2020**: It comprises the EU28 countries without the United Kingdom (by virtue of BREXIT).\n",
    "- **EU28**: Comprises the EU-25 countries plus Bulgaria, Romania and Croatia.\n",
    "\n",
    "For the purpose of studying the demographics of Spain in more detail, we will consider the use of data from the following website:\n",
    "\n",
    "                        https://www.ine.es/jaxiT3/files/t/es/xlsx/9676.xlsx?nocab=1\n",
    "\n",
    "In this analysis I did not take these aspects of the European Community into account, but it is worth highlighting. Let's extract all the raw data from the excel spreadsheet on that site.\n",
    "\n",
    "As can be seen, these data take a certain amount of time to be downloaded, indicating the need to download them in advance and store them locally for analysis:\n"
   ]
  },
  {
   "cell_type": "code",
   "execution_count": null,
   "metadata": {},
   "outputs": [],
   "source": [
    "url20_estatica=\"https://www.ine.es/jaxiT3/files/t/es/xlsx/9676.xlsx?nocab=1\"\n",
    "# usei header=None para excluir um header vindo do excel e usei o skiprows[0] para excluir a primeira linha\n",
    "# dfs12 = pd.read_excel(url20_estatica, header=None,skiprows=[0])\n",
    "dfs201 = pd.read_excel(url20_estatica,header=None,skiprows=[0,1,2,3,4,5,7,8,9])\n",
    "dfs201.head(5)"
   ]
  },
  {
   "cell_type": "code",
   "execution_count": null,
   "metadata": {},
   "outputs": [],
   "source": [
    "len(dfs201)"
   ]
  },
  {
   "cell_type": "markdown",
   "metadata": {},
   "source": [
    "As can be seen, the dataframe **dfs201** was created with **46930 rows** and with a header of columns numbered from 0 to 41, and the first row, with the dates that should be considered the columns. In addition, the dates are in a long format. In the following code, we will solve these two points, that is, eliminate the header with index numbers and change the date format to **MM/YYYY**. It is important to note that as the dates are in Spanish, __set.locale()__ must be set, for the due recognition of the dates."
   ]
  },
  {
   "cell_type": "code",
   "execution_count": null,
   "metadata": {},
   "outputs": [],
   "source": [
    "import locale\n",
    "from datetime import datetime as dt\n",
    "locale.setlocale(locale.LC_TIME, 'es_ES')\n",
    "# o 'for' está sendo utilizado para alterar o formato das datas constantes nas labels das colunas\n",
    "# alterando, por exemplo, de 1 de enero de 2022 para 01/2022\n",
    "for i in dfs201.columns:\n",
    "    if i > 0:\n",
    "        dd = dfs201.loc[0,i]\n",
    "        datetime_object = dt.strptime(dd,'%d de %B de %Y')\n",
    "        gg = datetime_object.strftime(\"%m/%Y\")\n",
    "        dfs201.loc[0,i]=gg\n",
    "dfs201.columns = dfs201.iloc[0]\n",
    "dfs201.drop([0], axis=0, inplace = True)\n",
    "dfs201.head(5)"
   ]
  },
  {
   "cell_type": "markdown",
   "metadata": {},
   "source": [
    "After this first movement of the raw data, and making some adjustments/cleaning of data in a first version of the dataframe, it becomes necessary to analyze the data to verify the way of presentation. Thus, it is worth explaining the first data to be worked on. The **dfs201** dataframe presents data on the demographic evolution of all of Spain, including both sexes and foreigners, which are basically separated between **UE** countries and the rest of the world. of indices from **1** to **12**. This identification was possible after analyzing the data and thus selecting them by the **head(12)** method. The columns, in a total of 40, show data from **01/2002** to **01/2022**, that is, a total of 20 years, but, of course, with two information per year, which totals the **40** :"
   ]
  },
  {
   "cell_type": "code",
   "execution_count": null,
   "metadata": {},
   "outputs": [],
   "source": [
    "dfs201.head(12)"
   ]
  },
  {
   "cell_type": "markdown",
   "metadata": {},
   "source": [
    "The above data is selected in the first **12** rows of interest, but it contains many cells with empty values. So, let's create a dataframe, **dfs201a**, limited to 12 lines and filling the **empty fields** with \"__zero__\"."
   ]
  },
  {
   "cell_type": "code",
   "execution_count": null,
   "metadata": {},
   "outputs": [],
   "source": [
    "dfs201a=dfs201.head(12)\n",
    "dfs201a.replace(' ',0,inplace = True)\n",
    "dfs201a.head(4)"
   ]
  },
  {
   "cell_type": "markdown",
   "metadata": {},
   "source": [
    "Based on the Dataframe **dfs201a**, which was limited to 12 rows but still with 40 columns, let's reduce the number of columns to 21 (date columns). Basically the columns contain January and July dates. Let's remove July, applying the __even__ and __odd__ index concept. In this case, we will be removing the <u>odd</u> using the **module %** operator."
   ]
  },
  {
   "cell_type": "code",
   "execution_count": null,
   "metadata": {},
   "outputs": [],
   "source": [
    "a = []\n",
    "for i in range(len(dfs201a.columns)):\n",
    "    if i != 0 and i % 2 == 0:\n",
    "        a.append(i)\n",
    "dfs201a.drop(dfs201a.columns[a], axis=1, inplace=True)\n",
    "dfs201a.head(4)"
   ]
  },
  {
   "cell_type": "markdown",
   "metadata": {},
   "source": [
    "We then have, as seen above, the **dfs201a** now with **12 rows and 22 columns**. The next step is to reverse the order of the years. The order is currently descending from 2022 to 2002. Let's use **dfs201a.iloc[:, ::-1]** to change the order from 2002 to 2022, that is, ascending, and assigning a new dataframe, **dfs201aa**."
   ]
  },
  {
   "cell_type": "code",
   "execution_count": 102,
   "metadata": {},
   "outputs": [
    {
     "data": {
      "text/html": [
       "<div>\n",
       "<style scoped>\n",
       "    .dataframe tbody tr th:only-of-type {\n",
       "        vertical-align: middle;\n",
       "    }\n",
       "\n",
       "    .dataframe tbody tr th {\n",
       "        vertical-align: top;\n",
       "    }\n",
       "\n",
       "    .dataframe thead th {\n",
       "        text-align: right;\n",
       "    }\n",
       "</style>\n",
       "<table border=\"1\" class=\"dataframe\">\n",
       "  <thead>\n",
       "    <tr style=\"text-align: right;\">\n",
       "      <th></th>\n",
       "      <th>01/2002</th>\n",
       "      <th>01/2003</th>\n",
       "      <th>01/2004</th>\n",
       "      <th>01/2005</th>\n",
       "      <th>01/2006</th>\n",
       "      <th>01/2007</th>\n",
       "      <th>01/2008</th>\n",
       "      <th>01/2009</th>\n",
       "      <th>01/2010</th>\n",
       "      <th>01/2011</th>\n",
       "      <th>...</th>\n",
       "      <th>01/2014</th>\n",
       "      <th>01/2015</th>\n",
       "      <th>01/2016</th>\n",
       "      <th>01/2017</th>\n",
       "      <th>01/2018</th>\n",
       "      <th>01/2019</th>\n",
       "      <th>01/2020</th>\n",
       "      <th>01/2021</th>\n",
       "      <th>01/2022</th>\n",
       "      <th></th>\n",
       "    </tr>\n",
       "  </thead>\n",
       "  <tbody>\n",
       "    <tr>\n",
       "      <th>1</th>\n",
       "      <td>41035271</td>\n",
       "      <td>41827836</td>\n",
       "      <td>42547454</td>\n",
       "      <td>43296335</td>\n",
       "      <td>44009969</td>\n",
       "      <td>44784659</td>\n",
       "      <td>45668938</td>\n",
       "      <td>46239271</td>\n",
       "      <td>46486621</td>\n",
       "      <td>46667175</td>\n",
       "      <td>...</td>\n",
       "      <td>46512199</td>\n",
       "      <td>46449565</td>\n",
       "      <td>46440099</td>\n",
       "      <td>46527039</td>\n",
       "      <td>46658447</td>\n",
       "      <td>46937060</td>\n",
       "      <td>47332614</td>\n",
       "      <td>47398695</td>\n",
       "      <td>47432805</td>\n",
       "      <td>Total</td>\n",
       "    </tr>\n",
       "    <tr>\n",
       "      <th>2</th>\n",
       "      <td>38701173</td>\n",
       "      <td>38843742</td>\n",
       "      <td>38999785</td>\n",
       "      <td>39189109</td>\n",
       "      <td>39371997</td>\n",
       "      <td>39584597</td>\n",
       "      <td>39790019</td>\n",
       "      <td>40013758</td>\n",
       "      <td>40206557</td>\n",
       "      <td>40384966</td>\n",
       "      <td>...</td>\n",
       "      <td>40553891</td>\n",
       "      <td>40558357</td>\n",
       "      <td>40521758</td>\n",
       "      <td>40502516</td>\n",
       "      <td>40459614</td>\n",
       "      <td>40398099</td>\n",
       "      <td>40335789</td>\n",
       "      <td>40183817</td>\n",
       "      <td>40066227</td>\n",
       "      <td>España</td>\n",
       "    </tr>\n",
       "    <tr>\n",
       "      <th>3</th>\n",
       "      <td>0</td>\n",
       "      <td>0</td>\n",
       "      <td>0</td>\n",
       "      <td>0</td>\n",
       "      <td>0</td>\n",
       "      <td>0</td>\n",
       "      <td>0</td>\n",
       "      <td>0</td>\n",
       "      <td>0</td>\n",
       "      <td>0</td>\n",
       "      <td>...</td>\n",
       "      <td>0</td>\n",
       "      <td>0</td>\n",
       "      <td>0</td>\n",
       "      <td>0</td>\n",
       "      <td>0</td>\n",
       "      <td>0</td>\n",
       "      <td>0</td>\n",
       "      <td>1663834</td>\n",
       "      <td>1654838</td>\n",
       "      <td>UE27_2020 sin España</td>\n",
       "    </tr>\n",
       "    <tr>\n",
       "      <th>4</th>\n",
       "      <td>724019</td>\n",
       "      <td>893791</td>\n",
       "      <td>1066882</td>\n",
       "      <td>1284496</td>\n",
       "      <td>1500800</td>\n",
       "      <td>1738465</td>\n",
       "      <td>2039479</td>\n",
       "      <td>2116623</td>\n",
       "      <td>2114321</td>\n",
       "      <td>2112498</td>\n",
       "      <td>...</td>\n",
       "      <td>2027532</td>\n",
       "      <td>1981218</td>\n",
       "      <td>1956465</td>\n",
       "      <td>1943345</td>\n",
       "      <td>1925421</td>\n",
       "      <td>1938650</td>\n",
       "      <td>1967381</td>\n",
       "      <td>0</td>\n",
       "      <td>0</td>\n",
       "      <td>UE28 sin España</td>\n",
       "    </tr>\n",
       "    <tr>\n",
       "      <th>5</th>\n",
       "      <td>0</td>\n",
       "      <td>0</td>\n",
       "      <td>0</td>\n",
       "      <td>0</td>\n",
       "      <td>0</td>\n",
       "      <td>0</td>\n",
       "      <td>0</td>\n",
       "      <td>0</td>\n",
       "      <td>0</td>\n",
       "      <td>0</td>\n",
       "      <td>...</td>\n",
       "      <td>0</td>\n",
       "      <td>0</td>\n",
       "      <td>0</td>\n",
       "      <td>0</td>\n",
       "      <td>0</td>\n",
       "      <td>0</td>\n",
       "      <td>0</td>\n",
       "      <td>683076</td>\n",
       "      <td>692037</td>\n",
       "      <td>Europa menos UE27_2020</td>\n",
       "    </tr>\n",
       "  </tbody>\n",
       "</table>\n",
       "<p>5 rows × 22 columns</p>\n",
       "</div>"
      ],
      "text/plain": [
       "0   01/2002   01/2003   01/2004   01/2005   01/2006   01/2007   01/2008  \\\n",
       "1  41035271  41827836  42547454  43296335  44009969  44784659  45668938   \n",
       "2  38701173  38843742  38999785  39189109  39371997  39584597  39790019   \n",
       "3         0         0         0         0         0         0         0   \n",
       "4    724019    893791   1066882   1284496   1500800   1738465   2039479   \n",
       "5         0         0         0         0         0         0         0   \n",
       "\n",
       "0   01/2009   01/2010   01/2011  ...   01/2014   01/2015   01/2016   01/2017  \\\n",
       "1  46239271  46486621  46667175  ...  46512199  46449565  46440099  46527039   \n",
       "2  40013758  40206557  40384966  ...  40553891  40558357  40521758  40502516   \n",
       "3         0         0         0  ...         0         0         0         0   \n",
       "4   2116623   2114321   2112498  ...   2027532   1981218   1956465   1943345   \n",
       "5         0         0         0  ...         0         0         0         0   \n",
       "\n",
       "0   01/2018   01/2019   01/2020   01/2021   01/2022  \\\n",
       "1  46658447  46937060  47332614  47398695  47432805   \n",
       "2  40459614  40398099  40335789  40183817  40066227   \n",
       "3         0         0         0   1663834   1654838   \n",
       "4   1925421   1938650   1967381         0         0   \n",
       "5         0         0         0    683076    692037   \n",
       "\n",
       "0                                          \n",
       "1                                   Total  \n",
       "2                                  España  \n",
       "3                    UE27_2020 sin España  \n",
       "4                         UE28 sin España  \n",
       "5                  Europa menos UE27_2020  \n",
       "\n",
       "[5 rows x 22 columns]"
      ]
     },
     "execution_count": 102,
     "metadata": {},
     "output_type": "execute_result"
    }
   ],
   "source": [
    "dfs201aa = dfs201a.iloc[:, ::-1]\n",
    "dfs201aa.head()"
   ]
  },
  {
   "cell_type": "markdown",
   "metadata": {},
   "source": [
    "So we now have **dfs201aa** reduced to 12 rows, 22 columns and in ascending order. Now let's do a total of the numbers of immigrants. The rows __0__ and __1__, that is, the first two rows of **dfs201a** refer to the __total of people__ and the __total of Spanish people__. Rows __2__ to __11__ refer to __non-Spanish__. In order to filter these rows, as in many cases, a further index such as 12 must be applied. For example, in a list with elements from 0 to 4, we will have to select all of them with (0.5). So to apply this filter you must use **dfs201a[2:12]**"
   ]
  },
  {
   "cell_type": "code",
   "execution_count": 103,
   "metadata": {},
   "outputs": [
    {
     "data": {
      "text/html": [
       "<div>\n",
       "<style scoped>\n",
       "    .dataframe tbody tr th:only-of-type {\n",
       "        vertical-align: middle;\n",
       "    }\n",
       "\n",
       "    .dataframe tbody tr th {\n",
       "        vertical-align: top;\n",
       "    }\n",
       "\n",
       "    .dataframe thead th {\n",
       "        text-align: right;\n",
       "    }\n",
       "</style>\n",
       "<table border=\"1\" class=\"dataframe\">\n",
       "  <thead>\n",
       "    <tr style=\"text-align: right;\">\n",
       "      <th></th>\n",
       "      <th></th>\n",
       "      <th>01/2022</th>\n",
       "      <th>01/2021</th>\n",
       "      <th>01/2020</th>\n",
       "      <th>01/2019</th>\n",
       "      <th>01/2018</th>\n",
       "      <th>01/2017</th>\n",
       "      <th>01/2016</th>\n",
       "      <th>01/2015</th>\n",
       "      <th>01/2014</th>\n",
       "      <th>...</th>\n",
       "      <th>01/2011</th>\n",
       "      <th>01/2010</th>\n",
       "      <th>01/2009</th>\n",
       "      <th>01/2008</th>\n",
       "      <th>01/2007</th>\n",
       "      <th>01/2006</th>\n",
       "      <th>01/2005</th>\n",
       "      <th>01/2004</th>\n",
       "      <th>01/2003</th>\n",
       "      <th>01/2002</th>\n",
       "    </tr>\n",
       "  </thead>\n",
       "  <tbody>\n",
       "    <tr>\n",
       "      <th>3</th>\n",
       "      <td>UE27_2020 sin España</td>\n",
       "      <td>1654838</td>\n",
       "      <td>1663834</td>\n",
       "      <td>0</td>\n",
       "      <td>0</td>\n",
       "      <td>0</td>\n",
       "      <td>0</td>\n",
       "      <td>0</td>\n",
       "      <td>0</td>\n",
       "      <td>0</td>\n",
       "      <td>...</td>\n",
       "      <td>0</td>\n",
       "      <td>0</td>\n",
       "      <td>0</td>\n",
       "      <td>0</td>\n",
       "      <td>0</td>\n",
       "      <td>0</td>\n",
       "      <td>0</td>\n",
       "      <td>0</td>\n",
       "      <td>0</td>\n",
       "      <td>0</td>\n",
       "    </tr>\n",
       "    <tr>\n",
       "      <th>4</th>\n",
       "      <td>UE28 sin España</td>\n",
       "      <td>0</td>\n",
       "      <td>0</td>\n",
       "      <td>1967381</td>\n",
       "      <td>1938650</td>\n",
       "      <td>1925421</td>\n",
       "      <td>1943345</td>\n",
       "      <td>1956465</td>\n",
       "      <td>1981218</td>\n",
       "      <td>2027532</td>\n",
       "      <td>...</td>\n",
       "      <td>2112498</td>\n",
       "      <td>2114321</td>\n",
       "      <td>2116623</td>\n",
       "      <td>2039479</td>\n",
       "      <td>1738465</td>\n",
       "      <td>1500800</td>\n",
       "      <td>1284496</td>\n",
       "      <td>1066882</td>\n",
       "      <td>893791</td>\n",
       "      <td>724019</td>\n",
       "    </tr>\n",
       "    <tr>\n",
       "      <th>5</th>\n",
       "      <td>Europa menos UE27_2020</td>\n",
       "      <td>692037</td>\n",
       "      <td>683076</td>\n",
       "      <td>0</td>\n",
       "      <td>0</td>\n",
       "      <td>0</td>\n",
       "      <td>0</td>\n",
       "      <td>0</td>\n",
       "      <td>0</td>\n",
       "      <td>0</td>\n",
       "      <td>...</td>\n",
       "      <td>0</td>\n",
       "      <td>0</td>\n",
       "      <td>0</td>\n",
       "      <td>0</td>\n",
       "      <td>0</td>\n",
       "      <td>0</td>\n",
       "      <td>0</td>\n",
       "      <td>0</td>\n",
       "      <td>0</td>\n",
       "      <td>0</td>\n",
       "    </tr>\n",
       "    <tr>\n",
       "      <th>6</th>\n",
       "      <td>Europa menos UE28</td>\n",
       "      <td>0</td>\n",
       "      <td>0</td>\n",
       "      <td>360794</td>\n",
       "      <td>344723</td>\n",
       "      <td>329454</td>\n",
       "      <td>320125</td>\n",
       "      <td>310148</td>\n",
       "      <td>296820</td>\n",
       "      <td>287964</td>\n",
       "      <td>...</td>\n",
       "      <td>278474</td>\n",
       "      <td>274414</td>\n",
       "      <td>271259</td>\n",
       "      <td>260856</td>\n",
       "      <td>240805</td>\n",
       "      <td>221769</td>\n",
       "      <td>201662</td>\n",
       "      <td>176861</td>\n",
       "      <td>151760</td>\n",
       "      <td>120797</td>\n",
       "    </tr>\n",
       "    <tr>\n",
       "      <th>7</th>\n",
       "      <td>África</td>\n",
       "      <td>1184675</td>\n",
       "      <td>1151622</td>\n",
       "      <td>1120257</td>\n",
       "      <td>1047931</td>\n",
       "      <td>996516</td>\n",
       "      <td>979306</td>\n",
       "      <td>972249</td>\n",
       "      <td>972835</td>\n",
       "      <td>987674</td>\n",
       "      <td>...</td>\n",
       "      <td>1071376</td>\n",
       "      <td>1070992</td>\n",
       "      <td>1042687</td>\n",
       "      <td>961656</td>\n",
       "      <td>871211</td>\n",
       "      <td>801702</td>\n",
       "      <td>710884</td>\n",
       "      <td>613630</td>\n",
       "      <td>532169</td>\n",
       "      <td>442408</td>\n",
       "    </tr>\n",
       "    <tr>\n",
       "      <th>8</th>\n",
       "      <td>América del Norte</td>\n",
       "      <td>144137</td>\n",
       "      <td>136311</td>\n",
       "      <td>131395</td>\n",
       "      <td>121337</td>\n",
       "      <td>113249</td>\n",
       "      <td>107323</td>\n",
       "      <td>102659</td>\n",
       "      <td>97827</td>\n",
       "      <td>94796</td>\n",
       "      <td>...</td>\n",
       "      <td>87786</td>\n",
       "      <td>85737</td>\n",
       "      <td>83696</td>\n",
       "      <td>79596</td>\n",
       "      <td>74919</td>\n",
       "      <td>71412</td>\n",
       "      <td>67440</td>\n",
       "      <td>62268</td>\n",
       "      <td>56008</td>\n",
       "      <td>48736</td>\n",
       "    </tr>\n",
       "    <tr>\n",
       "      <th>9</th>\n",
       "      <td>Centro América y Caribe</td>\n",
       "      <td>645750</td>\n",
       "      <td>624455</td>\n",
       "      <td>587846</td>\n",
       "      <td>514760</td>\n",
       "      <td>459112</td>\n",
       "      <td>420900</td>\n",
       "      <td>396249</td>\n",
       "      <td>379107</td>\n",
       "      <td>366338</td>\n",
       "      <td>...</td>\n",
       "      <td>320919</td>\n",
       "      <td>304655</td>\n",
       "      <td>289116</td>\n",
       "      <td>258754</td>\n",
       "      <td>220878</td>\n",
       "      <td>193184</td>\n",
       "      <td>172595</td>\n",
       "      <td>153419</td>\n",
       "      <td>135126</td>\n",
       "      <td>115042</td>\n",
       "    </tr>\n",
       "    <tr>\n",
       "      <th>10</th>\n",
       "      <td>Sudamérica</td>\n",
       "      <td>2567083</td>\n",
       "      <td>2481287</td>\n",
       "      <td>2365093</td>\n",
       "      <td>2137202</td>\n",
       "      <td>1968448</td>\n",
       "      <td>1865106</td>\n",
       "      <td>1806220</td>\n",
       "      <td>1798192</td>\n",
       "      <td>1830843</td>\n",
       "      <td>...</td>\n",
       "      <td>2042094</td>\n",
       "      <td>2079521</td>\n",
       "      <td>2088317</td>\n",
       "      <td>1981303</td>\n",
       "      <td>1791520</td>\n",
       "      <td>1609835</td>\n",
       "      <td>1467373</td>\n",
       "      <td>1311400</td>\n",
       "      <td>1081197</td>\n",
       "      <td>780432</td>\n",
       "    </tr>\n",
       "    <tr>\n",
       "      <th>11</th>\n",
       "      <td>Asia</td>\n",
       "      <td>467217</td>\n",
       "      <td>463592</td>\n",
       "      <td>453709</td>\n",
       "      <td>424625</td>\n",
       "      <td>397462</td>\n",
       "      <td>379731</td>\n",
       "      <td>366138</td>\n",
       "      <td>357413</td>\n",
       "      <td>355693</td>\n",
       "      <td>...</td>\n",
       "      <td>362353</td>\n",
       "      <td>343684</td>\n",
       "      <td>327057</td>\n",
       "      <td>290617</td>\n",
       "      <td>255860</td>\n",
       "      <td>233201</td>\n",
       "      <td>197075</td>\n",
       "      <td>157860</td>\n",
       "      <td>128989</td>\n",
       "      <td>98034</td>\n",
       "    </tr>\n",
       "    <tr>\n",
       "      <th>12</th>\n",
       "      <td>Oceanía</td>\n",
       "      <td>10841</td>\n",
       "      <td>10701</td>\n",
       "      <td>10349</td>\n",
       "      <td>9732</td>\n",
       "      <td>9170</td>\n",
       "      <td>8686</td>\n",
       "      <td>8214</td>\n",
       "      <td>7796</td>\n",
       "      <td>7467</td>\n",
       "      <td>...</td>\n",
       "      <td>6709</td>\n",
       "      <td>6739</td>\n",
       "      <td>6758</td>\n",
       "      <td>6659</td>\n",
       "      <td>6403</td>\n",
       "      <td>6067</td>\n",
       "      <td>5700</td>\n",
       "      <td>5349</td>\n",
       "      <td>5053</td>\n",
       "      <td>4631</td>\n",
       "    </tr>\n",
       "  </tbody>\n",
       "</table>\n",
       "<p>10 rows × 22 columns</p>\n",
       "</div>"
      ],
      "text/plain": [
       "0                                            01/2022  01/2021  01/2020  \\\n",
       "3                      UE27_2020 sin España  1654838  1663834        0   \n",
       "4                           UE28 sin España        0        0  1967381   \n",
       "5                    Europa menos UE27_2020   692037   683076        0   \n",
       "6                         Europa menos UE28        0        0   360794   \n",
       "7                                    África  1184675  1151622  1120257   \n",
       "8                         América del Norte   144137   136311   131395   \n",
       "9                   Centro América y Caribe   645750   624455   587846   \n",
       "10                               Sudamérica  2567083  2481287  2365093   \n",
       "11                                     Asia   467217   463592   453709   \n",
       "12                                 Oceanía     10841    10701    10349   \n",
       "\n",
       "0   01/2019  01/2018  01/2017  01/2016  01/2015  01/2014  ...  01/2011  \\\n",
       "3         0        0        0        0        0        0  ...        0   \n",
       "4   1938650  1925421  1943345  1956465  1981218  2027532  ...  2112498   \n",
       "5         0        0        0        0        0        0  ...        0   \n",
       "6    344723   329454   320125   310148   296820   287964  ...   278474   \n",
       "7   1047931   996516   979306   972249   972835   987674  ...  1071376   \n",
       "8    121337   113249   107323   102659    97827    94796  ...    87786   \n",
       "9    514760   459112   420900   396249   379107   366338  ...   320919   \n",
       "10  2137202  1968448  1865106  1806220  1798192  1830843  ...  2042094   \n",
       "11   424625   397462   379731   366138   357413   355693  ...   362353   \n",
       "12     9732     9170     8686     8214     7796     7467  ...     6709   \n",
       "\n",
       "0   01/2010  01/2009  01/2008  01/2007  01/2006  01/2005  01/2004  01/2003  \\\n",
       "3         0        0        0        0        0        0        0        0   \n",
       "4   2114321  2116623  2039479  1738465  1500800  1284496  1066882   893791   \n",
       "5         0        0        0        0        0        0        0        0   \n",
       "6    274414   271259   260856   240805   221769   201662   176861   151760   \n",
       "7   1070992  1042687   961656   871211   801702   710884   613630   532169   \n",
       "8     85737    83696    79596    74919    71412    67440    62268    56008   \n",
       "9    304655   289116   258754   220878   193184   172595   153419   135126   \n",
       "10  2079521  2088317  1981303  1791520  1609835  1467373  1311400  1081197   \n",
       "11   343684   327057   290617   255860   233201   197075   157860   128989   \n",
       "12     6739     6758     6659     6403     6067     5700     5349     5053   \n",
       "\n",
       "0   01/2002  \n",
       "3         0  \n",
       "4    724019  \n",
       "5         0  \n",
       "6    120797  \n",
       "7    442408  \n",
       "8     48736  \n",
       "9    115042  \n",
       "10   780432  \n",
       "11    98034  \n",
       "12     4631  \n",
       "\n",
       "[10 rows x 22 columns]"
      ]
     },
     "execution_count": 103,
     "metadata": {},
     "output_type": "execute_result"
    }
   ],
   "source": [
    "dfs201a[2:12]"
   ]
  },
  {
   "cell_type": "markdown",
   "metadata": {},
   "source": [
    "So let's do the sum of the 10 rows that represent non-Spanish people, but that requires some adjustments:\n",
    "- The first is to force the numbers presented to be in a float format of up to two decimal places. That's why **pd.options.display.float_format = '{:.2f}'.format**\n",
    "- The second is to make the sum that will be applied to the new line to be created and renamed to **total immigrants**.\n",
    "- The third is to apply a reset to the indexes.\n",
    "- The fourth is to associate a name **'TOTAL IMMIGRANTS'** in the column where the names of the rows appear.\n",
    "\n",
    "And all this for the **dfs201b**"
   ]
  },
  {
   "cell_type": "code",
   "execution_count": 104,
   "metadata": {},
   "outputs": [
    {
     "data": {
      "text/html": [
       "<div>\n",
       "<style scoped>\n",
       "    .dataframe tbody tr th:only-of-type {\n",
       "        vertical-align: middle;\n",
       "    }\n",
       "\n",
       "    .dataframe tbody tr th {\n",
       "        vertical-align: top;\n",
       "    }\n",
       "\n",
       "    .dataframe thead th {\n",
       "        text-align: right;\n",
       "    }\n",
       "</style>\n",
       "<table border=\"1\" class=\"dataframe\">\n",
       "  <thead>\n",
       "    <tr style=\"text-align: right;\">\n",
       "      <th></th>\n",
       "      <th></th>\n",
       "      <th>01/2022</th>\n",
       "      <th>01/2021</th>\n",
       "      <th>01/2020</th>\n",
       "      <th>01/2019</th>\n",
       "      <th>01/2018</th>\n",
       "      <th>01/2017</th>\n",
       "      <th>01/2016</th>\n",
       "      <th>01/2015</th>\n",
       "      <th>01/2014</th>\n",
       "      <th>...</th>\n",
       "      <th>01/2011</th>\n",
       "      <th>01/2010</th>\n",
       "      <th>01/2009</th>\n",
       "      <th>01/2008</th>\n",
       "      <th>01/2007</th>\n",
       "      <th>01/2006</th>\n",
       "      <th>01/2005</th>\n",
       "      <th>01/2004</th>\n",
       "      <th>01/2003</th>\n",
       "      <th>01/2002</th>\n",
       "    </tr>\n",
       "  </thead>\n",
       "  <tbody>\n",
       "    <tr>\n",
       "      <th>3</th>\n",
       "      <td>UE27_2020 sin España</td>\n",
       "      <td>1654838.00</td>\n",
       "      <td>1663834.00</td>\n",
       "      <td>0.00</td>\n",
       "      <td>0.00</td>\n",
       "      <td>0.00</td>\n",
       "      <td>0.00</td>\n",
       "      <td>0.00</td>\n",
       "      <td>0.00</td>\n",
       "      <td>0.00</td>\n",
       "      <td>...</td>\n",
       "      <td>0.00</td>\n",
       "      <td>0.00</td>\n",
       "      <td>0.00</td>\n",
       "      <td>0.00</td>\n",
       "      <td>0.00</td>\n",
       "      <td>0.00</td>\n",
       "      <td>0.00</td>\n",
       "      <td>0.00</td>\n",
       "      <td>0.00</td>\n",
       "      <td>0.00</td>\n",
       "    </tr>\n",
       "    <tr>\n",
       "      <th>4</th>\n",
       "      <td>UE28 sin España</td>\n",
       "      <td>0.00</td>\n",
       "      <td>0.00</td>\n",
       "      <td>1967381.00</td>\n",
       "      <td>1938650.00</td>\n",
       "      <td>1925421.00</td>\n",
       "      <td>1943345.00</td>\n",
       "      <td>1956465.00</td>\n",
       "      <td>1981218.00</td>\n",
       "      <td>2027532.00</td>\n",
       "      <td>...</td>\n",
       "      <td>2112498.00</td>\n",
       "      <td>2114321.00</td>\n",
       "      <td>2116623.00</td>\n",
       "      <td>2039479.00</td>\n",
       "      <td>1738465.00</td>\n",
       "      <td>1500800.00</td>\n",
       "      <td>1284496.00</td>\n",
       "      <td>1066882.00</td>\n",
       "      <td>893791.00</td>\n",
       "      <td>724019.00</td>\n",
       "    </tr>\n",
       "    <tr>\n",
       "      <th>5</th>\n",
       "      <td>Europa menos UE27_2020</td>\n",
       "      <td>692037.00</td>\n",
       "      <td>683076.00</td>\n",
       "      <td>0.00</td>\n",
       "      <td>0.00</td>\n",
       "      <td>0.00</td>\n",
       "      <td>0.00</td>\n",
       "      <td>0.00</td>\n",
       "      <td>0.00</td>\n",
       "      <td>0.00</td>\n",
       "      <td>...</td>\n",
       "      <td>0.00</td>\n",
       "      <td>0.00</td>\n",
       "      <td>0.00</td>\n",
       "      <td>0.00</td>\n",
       "      <td>0.00</td>\n",
       "      <td>0.00</td>\n",
       "      <td>0.00</td>\n",
       "      <td>0.00</td>\n",
       "      <td>0.00</td>\n",
       "      <td>0.00</td>\n",
       "    </tr>\n",
       "  </tbody>\n",
       "</table>\n",
       "<p>3 rows × 22 columns</p>\n",
       "</div>"
      ],
      "text/plain": [
       "0                                            01/2022    01/2021    01/2020  \\\n",
       "3                    UE27_2020 sin España 1654838.00 1663834.00       0.00   \n",
       "4                         UE28 sin España       0.00       0.00 1967381.00   \n",
       "5                  Europa menos UE27_2020  692037.00  683076.00       0.00   \n",
       "\n",
       "0    01/2019    01/2018    01/2017    01/2016    01/2015    01/2014  ...  \\\n",
       "3       0.00       0.00       0.00       0.00       0.00       0.00  ...   \n",
       "4 1938650.00 1925421.00 1943345.00 1956465.00 1981218.00 2027532.00  ...   \n",
       "5       0.00       0.00       0.00       0.00       0.00       0.00  ...   \n",
       "\n",
       "0    01/2011    01/2010    01/2009    01/2008    01/2007    01/2006  \\\n",
       "3       0.00       0.00       0.00       0.00       0.00       0.00   \n",
       "4 2112498.00 2114321.00 2116623.00 2039479.00 1738465.00 1500800.00   \n",
       "5       0.00       0.00       0.00       0.00       0.00       0.00   \n",
       "\n",
       "0    01/2005    01/2004   01/2003   01/2002  \n",
       "3       0.00       0.00      0.00      0.00  \n",
       "4 1284496.00 1066882.00 893791.00 724019.00  \n",
       "5       0.00       0.00      0.00      0.00  \n",
       "\n",
       "[3 rows x 22 columns]"
      ]
     },
     "execution_count": 104,
     "metadata": {},
     "output_type": "execute_result"
    }
   ],
   "source": [
    "import numpy as np\n",
    "import pandas as pd\n",
    "pd.options.display.float_format = '{:.2f}'.format\n",
    "sums = dfs201a[2:12].select_dtypes(np.number).sum().rename('total imigrantes')\n",
    "dfs201b = dfs201a[2:12].append(sums)\n",
    "dfs201b.reset_index()\n",
    "dfs201b.iloc[10,0]='TOTAL IMIGRANTES'\n",
    "dfs201b.head(3)"
   ]
  },
  {
   "cell_type": "markdown",
   "metadata": {},
   "source": [
    "After these totalization operations, it is necessary to reorder the columns in an ascending way, assigning them to **dfs201c**, as was done in **dfs201a** which resulted in **dfs201aa**. These dataframes, **dfs201aa**, and **dfs201c**, will be the two used to generate the three graphs, one of **general total of people, total of Spanish people and total of immigrants, adding the ones from the UE and the rest of the world**."
   ]
  },
  {
   "cell_type": "code",
   "execution_count": 100,
   "metadata": {},
   "outputs": [
    {
     "data": {
      "text/html": [
       "<div>\n",
       "<style scoped>\n",
       "    .dataframe tbody tr th:only-of-type {\n",
       "        vertical-align: middle;\n",
       "    }\n",
       "\n",
       "    .dataframe tbody tr th {\n",
       "        vertical-align: top;\n",
       "    }\n",
       "\n",
       "    .dataframe thead th {\n",
       "        text-align: right;\n",
       "    }\n",
       "</style>\n",
       "<table border=\"1\" class=\"dataframe\">\n",
       "  <thead>\n",
       "    <tr style=\"text-align: right;\">\n",
       "      <th></th>\n",
       "      <th>01/2002</th>\n",
       "      <th>01/2003</th>\n",
       "      <th>01/2004</th>\n",
       "      <th>01/2005</th>\n",
       "      <th>01/2006</th>\n",
       "      <th>01/2007</th>\n",
       "      <th>01/2008</th>\n",
       "      <th>01/2009</th>\n",
       "      <th>01/2010</th>\n",
       "      <th>01/2011</th>\n",
       "      <th>...</th>\n",
       "      <th>01/2014</th>\n",
       "      <th>01/2015</th>\n",
       "      <th>01/2016</th>\n",
       "      <th>01/2017</th>\n",
       "      <th>01/2018</th>\n",
       "      <th>01/2019</th>\n",
       "      <th>01/2020</th>\n",
       "      <th>01/2021</th>\n",
       "      <th>01/2022</th>\n",
       "      <th></th>\n",
       "    </tr>\n",
       "  </thead>\n",
       "  <tbody>\n",
       "    <tr>\n",
       "      <th>3</th>\n",
       "      <td>0.00</td>\n",
       "      <td>0.00</td>\n",
       "      <td>0.00</td>\n",
       "      <td>0.00</td>\n",
       "      <td>0.00</td>\n",
       "      <td>0.00</td>\n",
       "      <td>0.00</td>\n",
       "      <td>0.00</td>\n",
       "      <td>0.00</td>\n",
       "      <td>0.00</td>\n",
       "      <td>...</td>\n",
       "      <td>0.00</td>\n",
       "      <td>0.00</td>\n",
       "      <td>0.00</td>\n",
       "      <td>0.00</td>\n",
       "      <td>0.00</td>\n",
       "      <td>0.00</td>\n",
       "      <td>0.00</td>\n",
       "      <td>1663834.00</td>\n",
       "      <td>1654838.00</td>\n",
       "      <td>UE27_2020 sin España</td>\n",
       "    </tr>\n",
       "    <tr>\n",
       "      <th>4</th>\n",
       "      <td>724019.00</td>\n",
       "      <td>893791.00</td>\n",
       "      <td>1066882.00</td>\n",
       "      <td>1284496.00</td>\n",
       "      <td>1500800.00</td>\n",
       "      <td>1738465.00</td>\n",
       "      <td>2039479.00</td>\n",
       "      <td>2116623.00</td>\n",
       "      <td>2114321.00</td>\n",
       "      <td>2112498.00</td>\n",
       "      <td>...</td>\n",
       "      <td>2027532.00</td>\n",
       "      <td>1981218.00</td>\n",
       "      <td>1956465.00</td>\n",
       "      <td>1943345.00</td>\n",
       "      <td>1925421.00</td>\n",
       "      <td>1938650.00</td>\n",
       "      <td>1967381.00</td>\n",
       "      <td>0.00</td>\n",
       "      <td>0.00</td>\n",
       "      <td>UE28 sin España</td>\n",
       "    </tr>\n",
       "    <tr>\n",
       "      <th>5</th>\n",
       "      <td>0.00</td>\n",
       "      <td>0.00</td>\n",
       "      <td>0.00</td>\n",
       "      <td>0.00</td>\n",
       "      <td>0.00</td>\n",
       "      <td>0.00</td>\n",
       "      <td>0.00</td>\n",
       "      <td>0.00</td>\n",
       "      <td>0.00</td>\n",
       "      <td>0.00</td>\n",
       "      <td>...</td>\n",
       "      <td>0.00</td>\n",
       "      <td>0.00</td>\n",
       "      <td>0.00</td>\n",
       "      <td>0.00</td>\n",
       "      <td>0.00</td>\n",
       "      <td>0.00</td>\n",
       "      <td>0.00</td>\n",
       "      <td>683076.00</td>\n",
       "      <td>692037.00</td>\n",
       "      <td>Europa menos UE27_2020</td>\n",
       "    </tr>\n",
       "    <tr>\n",
       "      <th>6</th>\n",
       "      <td>120797.00</td>\n",
       "      <td>151760.00</td>\n",
       "      <td>176861.00</td>\n",
       "      <td>201662.00</td>\n",
       "      <td>221769.00</td>\n",
       "      <td>240805.00</td>\n",
       "      <td>260856.00</td>\n",
       "      <td>271259.00</td>\n",
       "      <td>274414.00</td>\n",
       "      <td>278474.00</td>\n",
       "      <td>...</td>\n",
       "      <td>287964.00</td>\n",
       "      <td>296820.00</td>\n",
       "      <td>310148.00</td>\n",
       "      <td>320125.00</td>\n",
       "      <td>329454.00</td>\n",
       "      <td>344723.00</td>\n",
       "      <td>360794.00</td>\n",
       "      <td>0.00</td>\n",
       "      <td>0.00</td>\n",
       "      <td>Europa menos UE28</td>\n",
       "    </tr>\n",
       "  </tbody>\n",
       "</table>\n",
       "<p>4 rows × 22 columns</p>\n",
       "</div>"
      ],
      "text/plain": [
       "0   01/2002   01/2003    01/2004    01/2005    01/2006    01/2007    01/2008  \\\n",
       "3      0.00      0.00       0.00       0.00       0.00       0.00       0.00   \n",
       "4 724019.00 893791.00 1066882.00 1284496.00 1500800.00 1738465.00 2039479.00   \n",
       "5      0.00      0.00       0.00       0.00       0.00       0.00       0.00   \n",
       "6 120797.00 151760.00  176861.00  201662.00  221769.00  240805.00  260856.00   \n",
       "\n",
       "0    01/2009    01/2010    01/2011  ...    01/2014    01/2015    01/2016  \\\n",
       "3       0.00       0.00       0.00  ...       0.00       0.00       0.00   \n",
       "4 2116623.00 2114321.00 2112498.00  ... 2027532.00 1981218.00 1956465.00   \n",
       "5       0.00       0.00       0.00  ...       0.00       0.00       0.00   \n",
       "6  271259.00  274414.00  278474.00  ...  287964.00  296820.00  310148.00   \n",
       "\n",
       "0    01/2017    01/2018    01/2019    01/2020    01/2021    01/2022  \\\n",
       "3       0.00       0.00       0.00       0.00 1663834.00 1654838.00   \n",
       "4 1943345.00 1925421.00 1938650.00 1967381.00       0.00       0.00   \n",
       "5       0.00       0.00       0.00       0.00  683076.00  692037.00   \n",
       "6  320125.00  329454.00  344723.00  360794.00       0.00       0.00   \n",
       "\n",
       "0                                          \n",
       "3                    UE27_2020 sin España  \n",
       "4                         UE28 sin España  \n",
       "5                  Europa menos UE27_2020  \n",
       "6                       Europa menos UE28  \n",
       "\n",
       "[4 rows x 22 columns]"
      ]
     },
     "execution_count": 100,
     "metadata": {},
     "output_type": "execute_result"
    }
   ],
   "source": [
    "dfs201c = dfs201b.iloc[:, ::-1]\n",
    "dfs201c.head(4)"
   ]
  },
  {
   "cell_type": "markdown",
   "metadata": {},
   "source": [
    "As observed so far, extracting data from the internet and preparing them for analysis consumes a reasonable amount of time in dealing with a topic focused on Data Science. Next, to prepare the graphs, we will also prepare the data. This preparation consists of reducing the value to be displayed in the chart. In place, for example, of the value of **4000000.00**, we will put it to a value of **40.00**, representing 40 M (Millions). After this preparation, we will prepare the three graphs. Next, we'll do what we've covered so far and create 3 lists, __l201aa, l202aa, and l201cc__, to be used in the charts."
   ]
  },
  {
   "cell_type": "code",
   "execution_count": 105,
   "metadata": {},
   "outputs": [],
   "source": [
    "l201a = dfs201aa.iloc[0,0:21].tolist()\n",
    "l202a = dfs201aa.iloc[1,0:21].tolist()\n",
    "l201c = dfs201c.iloc[10,0:21].tolist()\n",
    "vlr=1000000\n",
    "l201a[:] = [x / vlr for x in l201a]\n",
    "l202a[:] = [x / vlr for x in l202a]\n",
    "l201c[:] = [x / vlr for x in l201c]\n",
    "l201aa = [round(num,2) for num in l201a]\n",
    "l202aa = [round(num,2) for num in l202a]\n",
    "l201cc = [round(num,2) for num in l201c]"
   ]
  },
  {
   "cell_type": "code",
   "execution_count": 106,
   "metadata": {},
   "outputs": [
    {
     "data": {
      "text/plain": [
       "[2334099.0,\n",
       " 2984093.0,\n",
       " 3547669.0,\n",
       " 4107225.0,\n",
       " 4637970.0,\n",
       " 5200061.0,\n",
       " 5878920.0,\n",
       " 6225513.0,\n",
       " 6280063.0,\n",
       " 6282209.0]"
      ]
     },
     "execution_count": 106,
     "metadata": {},
     "output_type": "execute_result"
    }
   ],
   "source": [
    "l201c = dfs201c.iloc[10,0:10].tolist()\n",
    "l201c"
   ]
  },
  {
   "cell_type": "markdown",
   "metadata": {},
   "source": [
    "Let's generate 3 graphs:\n",
    "- The first showing the three segments: The Grand Total, the Total Spaniards and the Total Immigrants, including the members of the __European Community__.\n",
    "- The second highlighting the first two, namely: The General Total, the Total of native Spaniards.\n",
    "- The third showing the total number of immigrants."
   ]
  },
  {
   "cell_type": "code",
   "execution_count": 107,
   "metadata": {},
   "outputs": [
    {
     "data": {
      "image/png": "[encoded data removed]",
      "text/plain": [
       "<Figure size 1080x576 with 1 Axes>"
      ]
     },
     "metadata": {
      "needs_background": "light"
     },
     "output_type": "display_data"
    }
   ],
   "source": [
    "import numpy as np\n",
    "import matplotlib.pyplot as plt\n",
    "\n",
    "f = plt.figure()\n",
    "f.set_figwidth(15)\n",
    "f.set_figheight(8)\n",
    "plt.title(\"EVOLUÇÃO DEMOGRÁFICA NA ESPANHA(2002-2022)\")\n",
    "plt.xlabel(\"ANOS\")\n",
    "plt.ylabel(\"NÚMERO DE PESSOAS (EM MILHÕES)\")\n",
    "\n",
    "# Definir valores dos dados\n",
    "x = ['2002', '2003', '2004', '2005', '2006', '2007','2008','2009','2010','2011','2012','2013','2014','2015','2016','2017',\n",
    "     '2018','2019','2020','2021','2022']\n",
    "\n",
    "y = l201aa\n",
    "z = l202aa\n",
    "w = l201cc\n",
    "\n",
    "# Plotar os gráficos\n",
    "plt.plot(x, y,label = 'TOTAL GERAL', color = \"blue\")\n",
    "plt.plot(x,z,label = 'TOTAL DE ESPANHÓIS', color = \"red\")\n",
    "plt.plot(x,w,label = 'TOTAL DE IMIGRANTES', color = \"black\")\n",
    "plt.legend()\n",
    "plt.grid()\n",
    "\n",
    "# plt.yticks = ([5,10,15,20,25,30,35,40,45,50])\n",
    "\n",
    "plt.show()"
   ]
  },
  {
   "cell_type": "code",
   "execution_count": 108,
   "metadata": {},
   "outputs": [
    {
     "data": {
      "image/png": "[encoded data removed]",
      "text/plain": [
       "<Figure size 864x576 with 1 Axes>"
      ]
     },
     "metadata": {
      "needs_background": "light"
     },
     "output_type": "display_data"
    }
   ],
   "source": [
    "import matplotlib.pyplot as plt\n",
    "\n",
    "f = plt.figure()\n",
    "f.set_figwidth(12)\n",
    "f.set_figheight(8)\n",
    "plt.title(\"EVOLUÇÃO DEMOGRÁFICA NA ESPANHA(2002-2022)\")\n",
    "plt.xlabel(\"ANOS\")\n",
    "plt.ylabel(\"NÚMERO DE PESSOAS (EM MILHÕES)\")\n",
    "\n",
    "# Define data values\n",
    "x = [2002, 2003, 2004, 2005, 2006, 2007,2008,2009,2010,2011,2012,2013, 2014, 2015, 2016, 2017,\n",
    "     2018,2019,2020,2021,2022]\n",
    "\n",
    "y = l201aa\n",
    "z = l202aa\n",
    "\n",
    "\n",
    "# Plota outra linha sobre o mesmo gráfico\n",
    "plt.plot(x, y,label = 'TOTAL GERAL', color = \"blue\")\n",
    "plt.plot(x,z,label = 'TOTAL DE ESPANHÓIS', color = \"red\")\n",
    "\n",
    "plt.legend()\n",
    "plt.grid()\n",
    "\n",
    "\n",
    "plt.show()"
   ]
  },
  {
   "cell_type": "code",
   "execution_count": 109,
   "metadata": {},
   "outputs": [
    {
     "data": {
      "image/png": "[encoded data removed]",
      "text/plain": [
       "<Figure size 864x576 with 1 Axes>"
      ]
     },
     "metadata": {
      "needs_background": "light"
     },
     "output_type": "display_data"
    }
   ],
   "source": [
    "\n",
    "import matplotlib.pyplot as plt\n",
    "\n",
    "f = plt.figure()\n",
    "f.set_figwidth(12)\n",
    "f.set_figheight(8)\n",
    "plt.title(\"EVOLUÇÃO DEMOGRÁFICA NA ESPANHA(2002-2022)\")\n",
    "plt.xlabel(\"ANOS\")\n",
    "plt.ylabel(\"NÚMERO DE PESSOAS (EM MILHÕES)\")\n",
    "\n",
    "# Define data values\n",
    "x = [2002, 2003, 2004, 2005, 2006, 2007,2008,2009,2010,2011,2012,2013, 2014, 2015, 2016, 2017,\n",
    "     2018,2019,2020,2021,2022]\n",
    "\n",
    "w = l201cc\n",
    "\n",
    "# Plota outra linha sobre o mesmo gráfico\n",
    "\n",
    "plt.plot(x,w,label = 'TOTAL DE IMIGRANTES', color = \"black\")\n",
    "plt.legend()\n",
    "plt.grid()\n",
    "plt.xticks = ([2002, 2004,2006,2008,2010,2012,2014, 2016,2018,2020,2022])\n",
    "\n",
    "\n",
    "plt.show()"
   ]
  },
  {
   "cell_type": "markdown",
   "metadata": {},
   "source": [
    "In a first analysis, considering the period from 2002 to 2022, the graphs above show:\n",
    "- The Grand Total is above 40 million and below 50 million.\n",
    "- Total Spaniards are stable around 40 million.\n",
    "- The total number of immigrants is between 1 million in 2002 and close to 8 million in 2022.\n",
    "- The Grand Total shows an evolution that was leveraged by immigrants.\n",
    "- The Total Spaniards were stable, denoting a very timid evolution, and showing a decrease from 2015 onwards.\n",
    "- The total number of immigrants shows a marked evolution.\n",
    "\n",
    "Let's calculate some annual evolution rates, considering the period from __2002 to 2022__, of the mentioned segments:"
   ]
  },
  {
   "cell_type": "code",
   "execution_count": 111,
   "metadata": {},
   "outputs": [
    {
     "name": "stdout",
     "output_type": "stream",
     "text": [
      "TAXA GERAL ANUAL DE CRESCIMENTO POPULACIONAL(%)                   :  0.726\n",
      "TAXA GERAL ANUAL DE CRESCIMENTO POPULACIONAL DE ESPANHÓIS(%)      :  0.174\n",
      "TAXA GERAL ANUAL DE CRESCIMENTO POPULACIONAL IMIGRANTES(%)         :  5.927\n"
     ]
    }
   ],
   "source": [
    "import math\n",
    "result = ((math.pow(l201aa[20]/l201aa[0],1/20) - 1)*100)\n",
    "result_a = ((math.pow(l202aa[20]/l202aa[0],1/20) - 1)*100)\n",
    "result_b = ((math.pow(l201cc[20]/l201cc[0],1/20) - 1)*100)\n",
    "result1=round(result,3)\n",
    "result2=round(result_a,3)\n",
    "result3=round(result_b,3)\n",
    "print(\"TAXA GERAL ANUAL DE CRESCIMENTO POPULACIONAL(%)                   : \",result1)\n",
    "print(\"TAXA GERAL ANUAL DE CRESCIMENTO POPULACIONAL DE ESPANHÓIS(%)      : \",result2)\n",
    "print(\"TAXA GERAL ANUAL DE CRESCIMENTO POPULACIONAL IMIGRANTES(%)         : \",result3)"
   ]
  },
  {
   "attachments": {
    "image.png": {
     "image/png": "[encoded data removed]"
    }
   },
   "cell_type": "markdown",
   "metadata": {},
   "source": [
    "Observing the above result, the general rate of demographic change is 0.726%, the __rate of evolution of Spaniards__ is __0.174%__ and the __rate of evolution of immigrants__ is __5,927%__. One conclusion that can be drawn is that the __evolution rate of the Spaniards__ was very low, with periods between __2015 and 2022__ which was __negative__. Another conclusion is that the __rate of immigrants__ had an important growth that was almost responsible for keeping the __general rate__emes of __0.726% per year__. For comparison purposes, the annual population growth rate of the world's population is shown in the following graph and taken from the World Bank website (https://data.worldbank.org) (https://data.worldbank.org) ) __0.9%__.\n",
    "\n",
    "![image.png](attachment:image.png)\n",
    "\n",
    "And the rate in Spain, with reference to the year 2021, is __-0.1%__, that is, it was negative. For the purpose of understanding, the World Bank data considers the following about said rate:\n",
    "- <i>The annual population growth rate for year t is the exponential population growth rate in the middle of the year from year t-1 to year t, expressed as a percentage. Population is based on the de facto definition of population, which counts all residents regardless of legal status or citizenship</i>.\n",
    "\n",
    "Thus, it is understood that the period considered by the World Bank is __2020__ to __2021__. Below, using the same code as above but adjusting for the period, I obtain the rate for the period from __2020__ to __2021__ and a positive rate of __0 is seen .148%__, referring to the grand total. In a certain way, it can be seen that the entry of immigrants causes an increase in the rate, in a way that causes a certain balance in the general indicator of the country. But it doesn't match the calculated __0.148%__.\n"
   ]
  },
  {
   "cell_type": "code",
   "execution_count": 112,
   "metadata": {},
   "outputs": [
    {
     "name": "stdout",
     "output_type": "stream",
     "text": [
      "TAXA GERAL ANUAL DE CRESCIMENTO POPULACIONAL(%)                   :  0.148\n",
      "TAXA GERAL ANUAL DE CRESCIMENTO POPULACIONAL DE ESPANHÓIS(%)      :  -0.397\n",
      "TAXA GERAL ANUAL DE CRESCIMENTO POPULACIONAL DE IMIGRANTES(%)     :  3.0\n"
     ]
    }
   ],
   "source": [
    "import math\n",
    "result = ((math.pow(l201aa[19]/l201aa[18],1/1) - 1)*100)\n",
    "result_a = ((math.pow(l202aa[19]/l202aa[18],1/1) - 1)*100)\n",
    "result_b = ((math.pow(l201cc[19]/l201cc[18],1/1) - 1)*100)\n",
    "result1=round(result,3)\n",
    "result2=round(result_a,3)\n",
    "result3=round(result_b,3)\n",
    "print(\"TAXA GERAL ANUAL DE CRESCIMENTO POPULACIONAL(%)                   : \",result1)\n",
    "print(\"TAXA GERAL ANUAL DE CRESCIMENTO POPULACIONAL DE ESPANHÓIS(%)      : \",result2)\n",
    "print(\"TAXA GERAL ANUAL DE CRESCIMENTO POPULACIONAL DE IMIGRANTES(%)     : \",result3)"
   ]
  },
  {
   "cell_type": "markdown",
   "metadata": {},
   "source": [
    "The World Bank used midyear data. Therefore, trying to obtain this data, that is, data from 7/2020 and 7/2021, which were eliminated for the preparation of the graphs. This data is in the **dfs201** dataframe, shown below:"
   ]
  },
  {
   "cell_type": "code",
   "execution_count": 113,
   "metadata": {},
   "outputs": [
    {
     "data": {
      "text/html": [
       "<div>\n",
       "<style scoped>\n",
       "    .dataframe tbody tr th:only-of-type {\n",
       "        vertical-align: middle;\n",
       "    }\n",
       "\n",
       "    .dataframe tbody tr th {\n",
       "        vertical-align: top;\n",
       "    }\n",
       "\n",
       "    .dataframe thead th {\n",
       "        text-align: right;\n",
       "    }\n",
       "</style>\n",
       "<table border=\"1\" class=\"dataframe\">\n",
       "  <thead>\n",
       "    <tr style=\"text-align: right;\">\n",
       "      <th></th>\n",
       "      <th></th>\n",
       "      <th>01/2022</th>\n",
       "      <th>07/2021</th>\n",
       "      <th>01/2021</th>\n",
       "      <th>07/2020</th>\n",
       "      <th>01/2020</th>\n",
       "      <th>07/2019</th>\n",
       "      <th>01/2019</th>\n",
       "      <th>07/2018</th>\n",
       "      <th>01/2018</th>\n",
       "      <th>...</th>\n",
       "      <th>07/2006</th>\n",
       "      <th>01/2006</th>\n",
       "      <th>07/2005</th>\n",
       "      <th>01/2005</th>\n",
       "      <th>07/2004</th>\n",
       "      <th>01/2004</th>\n",
       "      <th>07/2003</th>\n",
       "      <th>01/2003</th>\n",
       "      <th>07/2002</th>\n",
       "      <th>01/2002</th>\n",
       "    </tr>\n",
       "  </thead>\n",
       "  <tbody>\n",
       "    <tr>\n",
       "      <th>1</th>\n",
       "      <td>Total</td>\n",
       "      <td>47432805</td>\n",
       "      <td>47331545</td>\n",
       "      <td>47398695</td>\n",
       "      <td>47355685</td>\n",
       "      <td>47332614</td>\n",
       "      <td>47105358</td>\n",
       "      <td>46937060</td>\n",
       "      <td>46728814</td>\n",
       "      <td>46658447</td>\n",
       "      <td>...</td>\n",
       "      <td>44360521</td>\n",
       "      <td>44009969</td>\n",
       "      <td>43662613</td>\n",
       "      <td>43296335</td>\n",
       "      <td>42859172</td>\n",
       "      <td>42547454</td>\n",
       "      <td>42196231</td>\n",
       "      <td>41827836</td>\n",
       "      <td>41423520</td>\n",
       "      <td>41035271</td>\n",
       "    </tr>\n",
       "    <tr>\n",
       "      <th>2</th>\n",
       "      <td>España</td>\n",
       "      <td>40066227</td>\n",
       "      <td>40108851</td>\n",
       "      <td>40183817</td>\n",
       "      <td>40235621</td>\n",
       "      <td>40335789</td>\n",
       "      <td>40353657</td>\n",
       "      <td>40398099</td>\n",
       "      <td>40407089</td>\n",
       "      <td>40459614</td>\n",
       "      <td>...</td>\n",
       "      <td>39470593</td>\n",
       "      <td>39371997</td>\n",
       "      <td>39257142</td>\n",
       "      <td>39189109</td>\n",
       "      <td>39084542</td>\n",
       "      <td>38999785</td>\n",
       "      <td>38913878</td>\n",
       "      <td>38843742</td>\n",
       "      <td>38755143</td>\n",
       "      <td>38701173</td>\n",
       "    </tr>\n",
       "    <tr>\n",
       "      <th>3</th>\n",
       "      <td>UE27_2020 sin España</td>\n",
       "      <td>1654838</td>\n",
       "      <td>1650054</td>\n",
       "      <td>1663834</td>\n",
       "      <td>1661407</td>\n",
       "      <td>0</td>\n",
       "      <td>0</td>\n",
       "      <td>0</td>\n",
       "      <td>0</td>\n",
       "      <td>0</td>\n",
       "      <td>...</td>\n",
       "      <td>0</td>\n",
       "      <td>0</td>\n",
       "      <td>0</td>\n",
       "      <td>0</td>\n",
       "      <td>0</td>\n",
       "      <td>0</td>\n",
       "      <td>0</td>\n",
       "      <td>0</td>\n",
       "      <td>0</td>\n",
       "      <td>0</td>\n",
       "    </tr>\n",
       "  </tbody>\n",
       "</table>\n",
       "<p>3 rows × 42 columns</p>\n",
       "</div>"
      ],
      "text/plain": [
       "0                                         01/2022   07/2021   01/2021  \\\n",
       "1                                 Total  47432805  47331545  47398695   \n",
       "2                                España  40066227  40108851  40183817   \n",
       "3                  UE27_2020 sin España   1654838   1650054   1663834   \n",
       "\n",
       "0   07/2020   01/2020   07/2019   01/2019   07/2018   01/2018  ...   07/2006  \\\n",
       "1  47355685  47332614  47105358  46937060  46728814  46658447  ...  44360521   \n",
       "2  40235621  40335789  40353657  40398099  40407089  40459614  ...  39470593   \n",
       "3   1661407         0         0         0         0         0  ...         0   \n",
       "\n",
       "0   01/2006   07/2005   01/2005   07/2004   01/2004   07/2003   01/2003  \\\n",
       "1  44009969  43662613  43296335  42859172  42547454  42196231  41827836   \n",
       "2  39371997  39257142  39189109  39084542  38999785  38913878  38843742   \n",
       "3         0         0         0         0         0         0         0   \n",
       "\n",
       "0   07/2002   01/2002  \n",
       "1  41423520  41035271  \n",
       "2  38755143  38701173  \n",
       "3         0         0  \n",
       "\n",
       "[3 rows x 42 columns]"
      ]
     },
     "execution_count": 113,
     "metadata": {},
     "output_type": "execute_result"
    }
   ],
   "source": [
    "dfs201.head(3)"
   ]
  },
  {
   "cell_type": "markdown",
   "metadata": {},
   "source": [
    "Based on **dfs201**, let's find the two values, one being 7/2020 and the other being 7/2021. These values are captured by the **iloc()** method and they are:\n",
    "\n",
    "- dfs201.iloc[0.4]: 47355685 (from 7/2020)\n",
    "- dfs201.iloc[0.2]: 47331545 (from 7/2021)\n",
    "\n",
    "Applying it to the code widely used around here, we get a value of **-0.051**. However, the value presented in the World Bank is **-0.1**, which has <u>only one decimal place</u>. When changing in the code, the **round(result,3)** to **round(result,1)**, the value becomes **-0,1** coinciding with the World Bank. Let's print the two values in the code below, \"as we wanted to demonstrate\":"
   ]
  },
  {
   "cell_type": "code",
   "execution_count": 114,
   "metadata": {},
   "outputs": [
    {
     "name": "stdout",
     "output_type": "stream",
     "text": [
      "TAXA  ANUAL (7/2020-7/2021) DE CRESCIMENTO POPULACIONAL(%) CONSIDERANDO 3 CASAS DECIMAIS:  -0.051\n",
      "TAXA  ANUAL (7/2020-7/2021) DE CRESCIMENTO POPULACIONAL(%) CONSIDERANDO 1 CASA DECIMAL  :  -0.1\n"
     ]
    }
   ],
   "source": [
    "import math\n",
    "result = ((math.pow(dfs201.iloc[0,2]/dfs201.iloc[0,4],1/1) - 1)*100)\n",
    "\n",
    "result1=round(result,3)\n",
    "result2=round(result,1)\n",
    "\n",
    "print(\"TAXA  ANUAL (7/2020-7/2021) DE CRESCIMENTO POPULACIONAL(%) CONSIDERANDO 3 CASAS DECIMAIS: \",result1)\n",
    "print(\"TAXA  ANUAL (7/2020-7/2021) DE CRESCIMENTO POPULACIONAL(%) CONSIDERANDO 1 CASA DECIMAL  : \",result2)"
   ]
  },
  {
   "cell_type": "markdown",
   "metadata": {},
   "source": [
    "So far, we have visualized the data without age range and without gender separation. Let's analyze these aspects, but using another data source from INE that is explained in the command below. The data separates by sex and age group and does not consider separations between Spaniards and immigrants.\n",
    "\n",
    "In the same way as before, let's do a first debug of the data, eliminating some unnecessary columns, through the **skiprows()** method.\n",
    "In addition we will use **lstrip()** to remove leading spaces from rows names.\n",
    "\n",
    "As I have already mentioned, I am concerned with showing the solutions within a __pedagogical context__, which does not mean that it is the best solution."
   ]
  },
  {
   "cell_type": "code",
   "execution_count": 115,
   "metadata": {},
   "outputs": [
    {
     "data": {
      "text/html": [
       "<div>\n",
       "<style scoped>\n",
       "    .dataframe tbody tr th:only-of-type {\n",
       "        vertical-align: middle;\n",
       "    }\n",
       "\n",
       "    .dataframe tbody tr th {\n",
       "        vertical-align: top;\n",
       "    }\n",
       "\n",
       "    .dataframe thead th {\n",
       "        text-align: right;\n",
       "    }\n",
       "</style>\n",
       "<table border=\"1\" class=\"dataframe\">\n",
       "  <thead>\n",
       "    <tr style=\"text-align: right;\">\n",
       "      <th></th>\n",
       "      <th>0</th>\n",
       "      <th>1</th>\n",
       "      <th>2</th>\n",
       "      <th>3</th>\n",
       "      <th>4</th>\n",
       "      <th>5</th>\n",
       "      <th>6</th>\n",
       "      <th>7</th>\n",
       "      <th>8</th>\n",
       "      <th>9</th>\n",
       "      <th>...</th>\n",
       "      <th>32</th>\n",
       "      <th>33</th>\n",
       "      <th>34</th>\n",
       "      <th>35</th>\n",
       "      <th>36</th>\n",
       "      <th>37</th>\n",
       "      <th>38</th>\n",
       "      <th>39</th>\n",
       "      <th>40</th>\n",
       "      <th>41</th>\n",
       "    </tr>\n",
       "  </thead>\n",
       "  <tbody>\n",
       "    <tr>\n",
       "      <th>0</th>\n",
       "      <td></td>\n",
       "      <td>1 de enero de 2022</td>\n",
       "      <td>1 de julio de 2021</td>\n",
       "      <td>1 de enero de 2021</td>\n",
       "      <td>1 de julio de 2020</td>\n",
       "      <td>1 de enero de 2020</td>\n",
       "      <td>1 de julio de 2019</td>\n",
       "      <td>1 de enero de 2019</td>\n",
       "      <td>1 de julio de 2018</td>\n",
       "      <td>1 de enero de 2018</td>\n",
       "      <td>...</td>\n",
       "      <td>1 de julio de 2006</td>\n",
       "      <td>1 de enero de 2006</td>\n",
       "      <td>1 de julio de 2005</td>\n",
       "      <td>1 de enero de 2005</td>\n",
       "      <td>1 de julio de 2004</td>\n",
       "      <td>1 de enero de 2004</td>\n",
       "      <td>1 de julio de 2003</td>\n",
       "      <td>1 de enero de 2003</td>\n",
       "      <td>1 de julio de 2002</td>\n",
       "      <td>1 de enero de 2002</td>\n",
       "    </tr>\n",
       "    <tr>\n",
       "      <th>1</th>\n",
       "      <td>Ambos sexos</td>\n",
       "      <td>47432805</td>\n",
       "      <td>47331545</td>\n",
       "      <td>47398695</td>\n",
       "      <td>47355685</td>\n",
       "      <td>47332614</td>\n",
       "      <td>47105358</td>\n",
       "      <td>46937060</td>\n",
       "      <td>46728814</td>\n",
       "      <td>46658447</td>\n",
       "      <td>...</td>\n",
       "      <td>44360521</td>\n",
       "      <td>44009969</td>\n",
       "      <td>43662613</td>\n",
       "      <td>43296335</td>\n",
       "      <td>42859172</td>\n",
       "      <td>42547454</td>\n",
       "      <td>42196231</td>\n",
       "      <td>41827836</td>\n",
       "      <td>41423520</td>\n",
       "      <td>41035271</td>\n",
       "    </tr>\n",
       "    <tr>\n",
       "      <th>2</th>\n",
       "      <td>Hombres</td>\n",
       "      <td>23236999</td>\n",
       "      <td>23191350</td>\n",
       "      <td>23227282</td>\n",
       "      <td>23208782</td>\n",
       "      <td>23199313</td>\n",
       "      <td>23091898</td>\n",
       "      <td>23009259</td>\n",
       "      <td>22911649</td>\n",
       "      <td>22881882</td>\n",
       "      <td>...</td>\n",
       "      <td>21900709</td>\n",
       "      <td>21719317</td>\n",
       "      <td>21541965</td>\n",
       "      <td>21335283</td>\n",
       "      <td>21093052</td>\n",
       "      <td>20924581</td>\n",
       "      <td>20737999</td>\n",
       "      <td>20542468</td>\n",
       "      <td>20326854</td>\n",
       "      <td>20115522</td>\n",
       "    </tr>\n",
       "    <tr>\n",
       "      <th>3</th>\n",
       "      <td>Mujeres</td>\n",
       "      <td>24195806</td>\n",
       "      <td>24140195</td>\n",
       "      <td>24171413</td>\n",
       "      <td>24146903</td>\n",
       "      <td>24133301</td>\n",
       "      <td>24013460</td>\n",
       "      <td>23927801</td>\n",
       "      <td>23817165</td>\n",
       "      <td>23776565</td>\n",
       "      <td>...</td>\n",
       "      <td>22459813</td>\n",
       "      <td>22290652</td>\n",
       "      <td>22120648</td>\n",
       "      <td>21961052</td>\n",
       "      <td>21766121</td>\n",
       "      <td>21622873</td>\n",
       "      <td>21458232</td>\n",
       "      <td>21285368</td>\n",
       "      <td>21096666</td>\n",
       "      <td>20919749</td>\n",
       "    </tr>\n",
       "    <tr>\n",
       "      <th>4</th>\n",
       "      <td>De 0 a 4 años</td>\n",
       "      <td>NaN</td>\n",
       "      <td>NaN</td>\n",
       "      <td>NaN</td>\n",
       "      <td>NaN</td>\n",
       "      <td>NaN</td>\n",
       "      <td>NaN</td>\n",
       "      <td>NaN</td>\n",
       "      <td>NaN</td>\n",
       "      <td>NaN</td>\n",
       "      <td>...</td>\n",
       "      <td>NaN</td>\n",
       "      <td>NaN</td>\n",
       "      <td>NaN</td>\n",
       "      <td>NaN</td>\n",
       "      <td>NaN</td>\n",
       "      <td>NaN</td>\n",
       "      <td>NaN</td>\n",
       "      <td>NaN</td>\n",
       "      <td>NaN</td>\n",
       "      <td>NaN</td>\n",
       "    </tr>\n",
       "    <tr>\n",
       "      <th>5</th>\n",
       "      <td>Ambos sexos</td>\n",
       "      <td>1845278</td>\n",
       "      <td>1874313</td>\n",
       "      <td>1926253</td>\n",
       "      <td>1970124</td>\n",
       "      <td>2011885</td>\n",
       "      <td>2035125</td>\n",
       "      <td>2067504</td>\n",
       "      <td>2081194</td>\n",
       "      <td>2106227</td>\n",
       "      <td>...</td>\n",
       "      <td>2287251</td>\n",
       "      <td>2253357</td>\n",
       "      <td>2213403</td>\n",
       "      <td>2183846</td>\n",
       "      <td>2139508</td>\n",
       "      <td>2108614</td>\n",
       "      <td>2064306</td>\n",
       "      <td>2020072</td>\n",
       "      <td>1974150</td>\n",
       "      <td>1938556</td>\n",
       "    </tr>\n",
       "    <tr>\n",
       "      <th>6</th>\n",
       "      <td>Hombres</td>\n",
       "      <td>948983</td>\n",
       "      <td>963698</td>\n",
       "      <td>989957</td>\n",
       "      <td>1012926</td>\n",
       "      <td>1034882</td>\n",
       "      <td>1046995</td>\n",
       "      <td>1064228</td>\n",
       "      <td>1071428</td>\n",
       "      <td>1084400</td>\n",
       "      <td>...</td>\n",
       "      <td>1176111</td>\n",
       "      <td>1157999</td>\n",
       "      <td>1137739</td>\n",
       "      <td>1122869</td>\n",
       "      <td>1099486</td>\n",
       "      <td>1082941</td>\n",
       "      <td>1060618</td>\n",
       "      <td>1037489</td>\n",
       "      <td>1013285</td>\n",
       "      <td>994873</td>\n",
       "    </tr>\n",
       "    <tr>\n",
       "      <th>7</th>\n",
       "      <td>Mujeres</td>\n",
       "      <td>896295</td>\n",
       "      <td>910615</td>\n",
       "      <td>936296</td>\n",
       "      <td>957198</td>\n",
       "      <td>977003</td>\n",
       "      <td>988131</td>\n",
       "      <td>1003275</td>\n",
       "      <td>1009766</td>\n",
       "      <td>1021827</td>\n",
       "      <td>...</td>\n",
       "      <td>1111140</td>\n",
       "      <td>1095358</td>\n",
       "      <td>1075664</td>\n",
       "      <td>1060977</td>\n",
       "      <td>1040022</td>\n",
       "      <td>1025673</td>\n",
       "      <td>1003688</td>\n",
       "      <td>982583</td>\n",
       "      <td>960865</td>\n",
       "      <td>943683</td>\n",
       "    </tr>\n",
       "    <tr>\n",
       "      <th>8</th>\n",
       "      <td>De 5 a 9 años</td>\n",
       "      <td>NaN</td>\n",
       "      <td>NaN</td>\n",
       "      <td>NaN</td>\n",
       "      <td>NaN</td>\n",
       "      <td>NaN</td>\n",
       "      <td>NaN</td>\n",
       "      <td>NaN</td>\n",
       "      <td>NaN</td>\n",
       "      <td>NaN</td>\n",
       "      <td>...</td>\n",
       "      <td>NaN</td>\n",
       "      <td>NaN</td>\n",
       "      <td>NaN</td>\n",
       "      <td>NaN</td>\n",
       "      <td>NaN</td>\n",
       "      <td>NaN</td>\n",
       "      <td>NaN</td>\n",
       "      <td>NaN</td>\n",
       "      <td>NaN</td>\n",
       "      <td>NaN</td>\n",
       "    </tr>\n",
       "    <tr>\n",
       "      <th>9</th>\n",
       "      <td>Ambos sexos</td>\n",
       "      <td>2253386</td>\n",
       "      <td>2268881</td>\n",
       "      <td>2294532</td>\n",
       "      <td>2312901</td>\n",
       "      <td>2330208</td>\n",
       "      <td>2341497</td>\n",
       "      <td>2356887</td>\n",
       "      <td>2387542</td>\n",
       "      <td>2423974</td>\n",
       "      <td>...</td>\n",
       "      <td>2074424</td>\n",
       "      <td>2039809</td>\n",
       "      <td>2007942</td>\n",
       "      <td>1979492</td>\n",
       "      <td>1957876</td>\n",
       "      <td>1938863</td>\n",
       "      <td>1929242</td>\n",
       "      <td>1917161</td>\n",
       "      <td>1912857</td>\n",
       "      <td>1910397</td>\n",
       "    </tr>\n",
       "    <tr>\n",
       "      <th>10</th>\n",
       "      <td>Hombres</td>\n",
       "      <td>1160980</td>\n",
       "      <td>1169183</td>\n",
       "      <td>1182656</td>\n",
       "      <td>1192298</td>\n",
       "      <td>1201415</td>\n",
       "      <td>1207455</td>\n",
       "      <td>1215469</td>\n",
       "      <td>1231621</td>\n",
       "      <td>1250866</td>\n",
       "      <td>...</td>\n",
       "      <td>1065270</td>\n",
       "      <td>1047667</td>\n",
       "      <td>1030970</td>\n",
       "      <td>1016029</td>\n",
       "      <td>1005157</td>\n",
       "      <td>995653</td>\n",
       "      <td>990538</td>\n",
       "      <td>984218</td>\n",
       "      <td>981895</td>\n",
       "      <td>980573</td>\n",
       "    </tr>\n",
       "    <tr>\n",
       "      <th>11</th>\n",
       "      <td>Mujeres</td>\n",
       "      <td>1092407</td>\n",
       "      <td>1099697</td>\n",
       "      <td>1111876</td>\n",
       "      <td>1120603</td>\n",
       "      <td>1128794</td>\n",
       "      <td>1134042</td>\n",
       "      <td>1141418</td>\n",
       "      <td>1155921</td>\n",
       "      <td>1173108</td>\n",
       "      <td>...</td>\n",
       "      <td>1009154</td>\n",
       "      <td>992142</td>\n",
       "      <td>976972</td>\n",
       "      <td>963463</td>\n",
       "      <td>952718</td>\n",
       "      <td>943210</td>\n",
       "      <td>938704</td>\n",
       "      <td>932944</td>\n",
       "      <td>930961</td>\n",
       "      <td>929824</td>\n",
       "    </tr>\n",
       "    <tr>\n",
       "      <th>12</th>\n",
       "      <td>De 10 a 14 años</td>\n",
       "      <td>NaN</td>\n",
       "      <td>NaN</td>\n",
       "      <td>NaN</td>\n",
       "      <td>NaN</td>\n",
       "      <td>NaN</td>\n",
       "      <td>NaN</td>\n",
       "      <td>NaN</td>\n",
       "      <td>NaN</td>\n",
       "      <td>NaN</td>\n",
       "      <td>...</td>\n",
       "      <td>NaN</td>\n",
       "      <td>NaN</td>\n",
       "      <td>NaN</td>\n",
       "      <td>NaN</td>\n",
       "      <td>NaN</td>\n",
       "      <td>NaN</td>\n",
       "      <td>NaN</td>\n",
       "      <td>NaN</td>\n",
       "      <td>NaN</td>\n",
       "      <td>NaN</td>\n",
       "    </tr>\n",
       "  </tbody>\n",
       "</table>\n",
       "<p>13 rows × 42 columns</p>\n",
       "</div>"
      ],
      "text/plain": [
       "                   0                   1                   2   \\\n",
       "0                      1 de enero de 2022  1 de julio de 2021   \n",
       "1         Ambos sexos            47432805            47331545   \n",
       "2             Hombres            23236999            23191350   \n",
       "3             Mujeres            24195806            24140195   \n",
       "4       De 0 a 4 años                 NaN                 NaN   \n",
       "5         Ambos sexos             1845278             1874313   \n",
       "6             Hombres              948983              963698   \n",
       "7             Mujeres              896295              910615   \n",
       "8       De 5 a 9 años                 NaN                 NaN   \n",
       "9         Ambos sexos             2253386             2268881   \n",
       "10            Hombres             1160980             1169183   \n",
       "11            Mujeres             1092407             1099697   \n",
       "12  De 10 a 14 años                   NaN                 NaN   \n",
       "\n",
       "                    3                   4                   5   \\\n",
       "0   1 de enero de 2021  1 de julio de 2020  1 de enero de 2020   \n",
       "1             47398695            47355685            47332614   \n",
       "2             23227282            23208782            23199313   \n",
       "3             24171413            24146903            24133301   \n",
       "4                  NaN                 NaN                 NaN   \n",
       "5              1926253             1970124             2011885   \n",
       "6               989957             1012926             1034882   \n",
       "7               936296              957198              977003   \n",
       "8                  NaN                 NaN                 NaN   \n",
       "9              2294532             2312901             2330208   \n",
       "10             1182656             1192298             1201415   \n",
       "11             1111876             1120603             1128794   \n",
       "12                 NaN                 NaN                 NaN   \n",
       "\n",
       "                    6                   7                   8   \\\n",
       "0   1 de julio de 2019  1 de enero de 2019  1 de julio de 2018   \n",
       "1             47105358            46937060            46728814   \n",
       "2             23091898            23009259            22911649   \n",
       "3             24013460            23927801            23817165   \n",
       "4                  NaN                 NaN                 NaN   \n",
       "5              2035125             2067504             2081194   \n",
       "6              1046995             1064228             1071428   \n",
       "7               988131             1003275             1009766   \n",
       "8                  NaN                 NaN                 NaN   \n",
       "9              2341497             2356887             2387542   \n",
       "10             1207455             1215469             1231621   \n",
       "11             1134042             1141418             1155921   \n",
       "12                 NaN                 NaN                 NaN   \n",
       "\n",
       "                    9   ...                  32                  33  \\\n",
       "0   1 de enero de 2018  ...  1 de julio de 2006  1 de enero de 2006   \n",
       "1             46658447  ...            44360521            44009969   \n",
       "2             22881882  ...            21900709            21719317   \n",
       "3             23776565  ...            22459813            22290652   \n",
       "4                  NaN  ...                 NaN                 NaN   \n",
       "5              2106227  ...             2287251             2253357   \n",
       "6              1084400  ...             1176111             1157999   \n",
       "7              1021827  ...             1111140             1095358   \n",
       "8                  NaN  ...                 NaN                 NaN   \n",
       "9              2423974  ...             2074424             2039809   \n",
       "10             1250866  ...             1065270             1047667   \n",
       "11             1173108  ...             1009154              992142   \n",
       "12                 NaN  ...                 NaN                 NaN   \n",
       "\n",
       "                    34                  35                  36  \\\n",
       "0   1 de julio de 2005  1 de enero de 2005  1 de julio de 2004   \n",
       "1             43662613            43296335            42859172   \n",
       "2             21541965            21335283            21093052   \n",
       "3             22120648            21961052            21766121   \n",
       "4                  NaN                 NaN                 NaN   \n",
       "5              2213403             2183846             2139508   \n",
       "6              1137739             1122869             1099486   \n",
       "7              1075664             1060977             1040022   \n",
       "8                  NaN                 NaN                 NaN   \n",
       "9              2007942             1979492             1957876   \n",
       "10             1030970             1016029             1005157   \n",
       "11              976972              963463              952718   \n",
       "12                 NaN                 NaN                 NaN   \n",
       "\n",
       "                    37                  38                  39  \\\n",
       "0   1 de enero de 2004  1 de julio de 2003  1 de enero de 2003   \n",
       "1             42547454            42196231            41827836   \n",
       "2             20924581            20737999            20542468   \n",
       "3             21622873            21458232            21285368   \n",
       "4                  NaN                 NaN                 NaN   \n",
       "5              2108614             2064306             2020072   \n",
       "6              1082941             1060618             1037489   \n",
       "7              1025673             1003688              982583   \n",
       "8                  NaN                 NaN                 NaN   \n",
       "9              1938863             1929242             1917161   \n",
       "10              995653              990538              984218   \n",
       "11              943210              938704              932944   \n",
       "12                 NaN                 NaN                 NaN   \n",
       "\n",
       "                    40                  41  \n",
       "0   1 de julio de 2002  1 de enero de 2002  \n",
       "1             41423520            41035271  \n",
       "2             20326854            20115522  \n",
       "3             21096666            20919749  \n",
       "4                  NaN                 NaN  \n",
       "5              1974150             1938556  \n",
       "6              1013285              994873  \n",
       "7               960865              943683  \n",
       "8                  NaN                 NaN  \n",
       "9              1912857             1910397  \n",
       "10              981895              980573  \n",
       "11              930961              929824  \n",
       "12                 NaN                 NaN  \n",
       "\n",
       "[13 rows x 42 columns]"
      ]
     },
     "execution_count": 115,
     "metadata": {},
     "output_type": "execute_result"
    }
   ],
   "source": [
    "url30_estatica=\"https://www.ine.es/jaxiT3/files/t/es/xlsx/9674.xlsx?nocab=1\"\n",
    "# usei header=None para excluir um header vindo do excel e usei o skiprows[0,1,2,3,4,5,6,7,8] \n",
    "# para excluir as primeiras linhas\n",
    "dfs40 = pd.read_excel(url30_estatica, header=None,skiprows=[0,1,2,3,4,5,7,8])\n",
    "dfs40.iloc[:,0]=dfs40.iloc[:,0].str.lstrip()\n",
    "dfs40.head(13)"
   ]
  },
  {
   "cell_type": "markdown",
   "metadata": {},
   "source": [
    "As we've done before, let's change the format of the dates using the code already applied, just changing the Dataframe **dfs40**:"
   ]
  },
  {
   "cell_type": "code",
   "execution_count": 116,
   "metadata": {},
   "outputs": [
    {
     "data": {
      "text/html": [
       "<div>\n",
       "<style scoped>\n",
       "    .dataframe tbody tr th:only-of-type {\n",
       "        vertical-align: middle;\n",
       "    }\n",
       "\n",
       "    .dataframe tbody tr th {\n",
       "        vertical-align: top;\n",
       "    }\n",
       "\n",
       "    .dataframe thead th {\n",
       "        text-align: right;\n",
       "    }\n",
       "</style>\n",
       "<table border=\"1\" class=\"dataframe\">\n",
       "  <thead>\n",
       "    <tr style=\"text-align: right;\">\n",
       "      <th></th>\n",
       "      <th></th>\n",
       "      <th>01/2022</th>\n",
       "      <th>07/2021</th>\n",
       "      <th>01/2021</th>\n",
       "      <th>07/2020</th>\n",
       "      <th>01/2020</th>\n",
       "      <th>07/2019</th>\n",
       "      <th>01/2019</th>\n",
       "      <th>07/2018</th>\n",
       "      <th>01/2018</th>\n",
       "      <th>...</th>\n",
       "      <th>07/2006</th>\n",
       "      <th>01/2006</th>\n",
       "      <th>07/2005</th>\n",
       "      <th>01/2005</th>\n",
       "      <th>07/2004</th>\n",
       "      <th>01/2004</th>\n",
       "      <th>07/2003</th>\n",
       "      <th>01/2003</th>\n",
       "      <th>07/2002</th>\n",
       "      <th>01/2002</th>\n",
       "    </tr>\n",
       "  </thead>\n",
       "  <tbody>\n",
       "    <tr>\n",
       "      <th>1</th>\n",
       "      <td>Ambos sexos</td>\n",
       "      <td>47432805</td>\n",
       "      <td>47331545</td>\n",
       "      <td>47398695</td>\n",
       "      <td>47355685</td>\n",
       "      <td>47332614</td>\n",
       "      <td>47105358</td>\n",
       "      <td>46937060</td>\n",
       "      <td>46728814</td>\n",
       "      <td>46658447</td>\n",
       "      <td>...</td>\n",
       "      <td>44360521</td>\n",
       "      <td>44009969</td>\n",
       "      <td>43662613</td>\n",
       "      <td>43296335</td>\n",
       "      <td>42859172</td>\n",
       "      <td>42547454</td>\n",
       "      <td>42196231</td>\n",
       "      <td>41827836</td>\n",
       "      <td>41423520</td>\n",
       "      <td>41035271</td>\n",
       "    </tr>\n",
       "    <tr>\n",
       "      <th>2</th>\n",
       "      <td>Hombres</td>\n",
       "      <td>23236999</td>\n",
       "      <td>23191350</td>\n",
       "      <td>23227282</td>\n",
       "      <td>23208782</td>\n",
       "      <td>23199313</td>\n",
       "      <td>23091898</td>\n",
       "      <td>23009259</td>\n",
       "      <td>22911649</td>\n",
       "      <td>22881882</td>\n",
       "      <td>...</td>\n",
       "      <td>21900709</td>\n",
       "      <td>21719317</td>\n",
       "      <td>21541965</td>\n",
       "      <td>21335283</td>\n",
       "      <td>21093052</td>\n",
       "      <td>20924581</td>\n",
       "      <td>20737999</td>\n",
       "      <td>20542468</td>\n",
       "      <td>20326854</td>\n",
       "      <td>20115522</td>\n",
       "    </tr>\n",
       "    <tr>\n",
       "      <th>3</th>\n",
       "      <td>Mujeres</td>\n",
       "      <td>24195806</td>\n",
       "      <td>24140195</td>\n",
       "      <td>24171413</td>\n",
       "      <td>24146903</td>\n",
       "      <td>24133301</td>\n",
       "      <td>24013460</td>\n",
       "      <td>23927801</td>\n",
       "      <td>23817165</td>\n",
       "      <td>23776565</td>\n",
       "      <td>...</td>\n",
       "      <td>22459813</td>\n",
       "      <td>22290652</td>\n",
       "      <td>22120648</td>\n",
       "      <td>21961052</td>\n",
       "      <td>21766121</td>\n",
       "      <td>21622873</td>\n",
       "      <td>21458232</td>\n",
       "      <td>21285368</td>\n",
       "      <td>21096666</td>\n",
       "      <td>20919749</td>\n",
       "    </tr>\n",
       "    <tr>\n",
       "      <th>4</th>\n",
       "      <td>De 0 a 4 años</td>\n",
       "      <td>NaN</td>\n",
       "      <td>NaN</td>\n",
       "      <td>NaN</td>\n",
       "      <td>NaN</td>\n",
       "      <td>NaN</td>\n",
       "      <td>NaN</td>\n",
       "      <td>NaN</td>\n",
       "      <td>NaN</td>\n",
       "      <td>NaN</td>\n",
       "      <td>...</td>\n",
       "      <td>NaN</td>\n",
       "      <td>NaN</td>\n",
       "      <td>NaN</td>\n",
       "      <td>NaN</td>\n",
       "      <td>NaN</td>\n",
       "      <td>NaN</td>\n",
       "      <td>NaN</td>\n",
       "      <td>NaN</td>\n",
       "      <td>NaN</td>\n",
       "      <td>NaN</td>\n",
       "    </tr>\n",
       "    <tr>\n",
       "      <th>5</th>\n",
       "      <td>Ambos sexos</td>\n",
       "      <td>1845278</td>\n",
       "      <td>1874313</td>\n",
       "      <td>1926253</td>\n",
       "      <td>1970124</td>\n",
       "      <td>2011885</td>\n",
       "      <td>2035125</td>\n",
       "      <td>2067504</td>\n",
       "      <td>2081194</td>\n",
       "      <td>2106227</td>\n",
       "      <td>...</td>\n",
       "      <td>2287251</td>\n",
       "      <td>2253357</td>\n",
       "      <td>2213403</td>\n",
       "      <td>2183846</td>\n",
       "      <td>2139508</td>\n",
       "      <td>2108614</td>\n",
       "      <td>2064306</td>\n",
       "      <td>2020072</td>\n",
       "      <td>1974150</td>\n",
       "      <td>1938556</td>\n",
       "    </tr>\n",
       "  </tbody>\n",
       "</table>\n",
       "<p>5 rows × 42 columns</p>\n",
       "</div>"
      ],
      "text/plain": [
       "0                  01/2022   07/2021   01/2021   07/2020   01/2020   07/2019  \\\n",
       "1    Ambos sexos  47432805  47331545  47398695  47355685  47332614  47105358   \n",
       "2        Hombres  23236999  23191350  23227282  23208782  23199313  23091898   \n",
       "3        Mujeres  24195806  24140195  24171413  24146903  24133301  24013460   \n",
       "4  De 0 a 4 años       NaN       NaN       NaN       NaN       NaN       NaN   \n",
       "5    Ambos sexos   1845278   1874313   1926253   1970124   2011885   2035125   \n",
       "\n",
       "0   01/2019   07/2018   01/2018  ...   07/2006   01/2006   07/2005   01/2005  \\\n",
       "1  46937060  46728814  46658447  ...  44360521  44009969  43662613  43296335   \n",
       "2  23009259  22911649  22881882  ...  21900709  21719317  21541965  21335283   \n",
       "3  23927801  23817165  23776565  ...  22459813  22290652  22120648  21961052   \n",
       "4       NaN       NaN       NaN  ...       NaN       NaN       NaN       NaN   \n",
       "5   2067504   2081194   2106227  ...   2287251   2253357   2213403   2183846   \n",
       "\n",
       "0   07/2004   01/2004   07/2003   01/2003   07/2002   01/2002  \n",
       "1  42859172  42547454  42196231  41827836  41423520  41035271  \n",
       "2  21093052  20924581  20737999  20542468  20326854  20115522  \n",
       "3  21766121  21622873  21458232  21285368  21096666  20919749  \n",
       "4       NaN       NaN       NaN       NaN       NaN       NaN  \n",
       "5   2139508   2108614   2064306   2020072   1974150   1938556  \n",
       "\n",
       "[5 rows x 42 columns]"
      ]
     },
     "execution_count": 116,
     "metadata": {},
     "output_type": "execute_result"
    }
   ],
   "source": [
    "import locale\n",
    "from datetime import datetime as dt\n",
    "locale.setlocale(locale.LC_TIME, 'es_ES')\n",
    "# o for está sendo utilizado para alterar o formato das datas constantes nas labels das colunas\n",
    "# alterando, por exemplo, de 1 de enero de 2022 para 01/2022\n",
    "for i in dfs40.columns:\n",
    "    if i > 0:\n",
    "        dd = dfs40.loc[0,i]\n",
    "        datetime_object = dt.strptime(dd,'%d de %B de %Y')\n",
    "        gg = datetime_object.strftime(\"%m/%Y\")\n",
    "        dfs40.loc[0,i]=gg\n",
    "dfs40.columns = dfs40.iloc[0]\n",
    "dfs40.drop([0], axis=0, inplace = True)\n",
    "\n",
    "dfs40.head()"
   ]
  },
  {
   "cell_type": "markdown",
   "metadata": {},
   "source": [
    "Now let's do two things, creating a new dataframe **dfs400**:\n",
    "- One is to eliminate some periods of the year, and change the order of the years, in the same way as before.\n",
    "- Another is to limit the view to the first three lines where the grand total and the totals by sex are shown."
   ]
  },
  {
   "cell_type": "code",
   "execution_count": 117,
   "metadata": {},
   "outputs": [
    {
     "data": {
      "text/html": [
       "<div>\n",
       "<style scoped>\n",
       "    .dataframe tbody tr th:only-of-type {\n",
       "        vertical-align: middle;\n",
       "    }\n",
       "\n",
       "    .dataframe tbody tr th {\n",
       "        vertical-align: top;\n",
       "    }\n",
       "\n",
       "    .dataframe thead th {\n",
       "        text-align: right;\n",
       "    }\n",
       "</style>\n",
       "<table border=\"1\" class=\"dataframe\">\n",
       "  <thead>\n",
       "    <tr style=\"text-align: right;\">\n",
       "      <th></th>\n",
       "      <th>01/2002</th>\n",
       "      <th>01/2003</th>\n",
       "      <th>01/2004</th>\n",
       "      <th>01/2005</th>\n",
       "      <th>01/2006</th>\n",
       "      <th>01/2007</th>\n",
       "      <th>01/2008</th>\n",
       "      <th>01/2009</th>\n",
       "      <th>01/2010</th>\n",
       "      <th>01/2011</th>\n",
       "      <th>...</th>\n",
       "      <th>01/2014</th>\n",
       "      <th>01/2015</th>\n",
       "      <th>01/2016</th>\n",
       "      <th>01/2017</th>\n",
       "      <th>01/2018</th>\n",
       "      <th>01/2019</th>\n",
       "      <th>01/2020</th>\n",
       "      <th>01/2021</th>\n",
       "      <th>01/2022</th>\n",
       "      <th></th>\n",
       "    </tr>\n",
       "  </thead>\n",
       "  <tbody>\n",
       "    <tr>\n",
       "      <th>1</th>\n",
       "      <td>41035271</td>\n",
       "      <td>41827836</td>\n",
       "      <td>42547454</td>\n",
       "      <td>43296335</td>\n",
       "      <td>44009969</td>\n",
       "      <td>44784659</td>\n",
       "      <td>45668938</td>\n",
       "      <td>46239271</td>\n",
       "      <td>46486621</td>\n",
       "      <td>46667175</td>\n",
       "      <td>...</td>\n",
       "      <td>46512199</td>\n",
       "      <td>46449565</td>\n",
       "      <td>46440099</td>\n",
       "      <td>46527039</td>\n",
       "      <td>46658447</td>\n",
       "      <td>46937060</td>\n",
       "      <td>47332614</td>\n",
       "      <td>47398695</td>\n",
       "      <td>47432805</td>\n",
       "      <td>Ambos sexos</td>\n",
       "    </tr>\n",
       "    <tr>\n",
       "      <th>2</th>\n",
       "      <td>20115522</td>\n",
       "      <td>20542468</td>\n",
       "      <td>20924581</td>\n",
       "      <td>21335283</td>\n",
       "      <td>21719317</td>\n",
       "      <td>22118970</td>\n",
       "      <td>22591484</td>\n",
       "      <td>22880534</td>\n",
       "      <td>22982272</td>\n",
       "      <td>23049476</td>\n",
       "      <td>...</td>\n",
       "      <td>22877461</td>\n",
       "      <td>22826546</td>\n",
       "      <td>22807464</td>\n",
       "      <td>22834227</td>\n",
       "      <td>22881882</td>\n",
       "      <td>23009259</td>\n",
       "      <td>23199313</td>\n",
       "      <td>23227282</td>\n",
       "      <td>23236999</td>\n",
       "      <td>Hombres</td>\n",
       "    </tr>\n",
       "    <tr>\n",
       "      <th>3</th>\n",
       "      <td>20919749</td>\n",
       "      <td>21285368</td>\n",
       "      <td>21622873</td>\n",
       "      <td>21961052</td>\n",
       "      <td>22290652</td>\n",
       "      <td>22665689</td>\n",
       "      <td>23077454</td>\n",
       "      <td>23358736</td>\n",
       "      <td>23504349</td>\n",
       "      <td>23617698</td>\n",
       "      <td>...</td>\n",
       "      <td>23634738</td>\n",
       "      <td>23623019</td>\n",
       "      <td>23632635</td>\n",
       "      <td>23692812</td>\n",
       "      <td>23776565</td>\n",
       "      <td>23927801</td>\n",
       "      <td>24133301</td>\n",
       "      <td>24171413</td>\n",
       "      <td>24195806</td>\n",
       "      <td>Mujeres</td>\n",
       "    </tr>\n",
       "  </tbody>\n",
       "</table>\n",
       "<p>3 rows × 22 columns</p>\n",
       "</div>"
      ],
      "text/plain": [
       "0   01/2002   01/2003   01/2004   01/2005   01/2006   01/2007   01/2008  \\\n",
       "1  41035271  41827836  42547454  43296335  44009969  44784659  45668938   \n",
       "2  20115522  20542468  20924581  21335283  21719317  22118970  22591484   \n",
       "3  20919749  21285368  21622873  21961052  22290652  22665689  23077454   \n",
       "\n",
       "0   01/2009   01/2010   01/2011  ...   01/2014   01/2015   01/2016   01/2017  \\\n",
       "1  46239271  46486621  46667175  ...  46512199  46449565  46440099  46527039   \n",
       "2  22880534  22982272  23049476  ...  22877461  22826546  22807464  22834227   \n",
       "3  23358736  23504349  23617698  ...  23634738  23623019  23632635  23692812   \n",
       "\n",
       "0   01/2018   01/2019   01/2020   01/2021   01/2022               \n",
       "1  46658447  46937060  47332614  47398695  47432805  Ambos sexos  \n",
       "2  22881882  23009259  23199313  23227282  23236999      Hombres  \n",
       "3  23776565  23927801  24133301  24171413  24195806      Mujeres  \n",
       "\n",
       "[3 rows x 22 columns]"
      ]
     },
     "execution_count": 117,
     "metadata": {},
     "output_type": "execute_result"
    }
   ],
   "source": [
    "dfs400 = dfs40.iloc[0:3,:]\n",
    "a = []\n",
    "for i in range(len(dfs400.columns)):\n",
    "    if i != 0 and i % 2 == 0:\n",
    "        a.append(i)\n",
    "dfs400.drop(dfs400.columns[a], axis=1, inplace=True)\n",
    "dfs400 = dfs400.iloc[:, ::-1]\n",
    "dfs400.head()"
   ]
  },
  {
   "cell_type": "markdown",
   "metadata": {},
   "source": [
    "Now we create the lists to be used in the charts and divide the values by 1000000.\n"
   ]
  },
  {
   "cell_type": "code",
   "execution_count": 118,
   "metadata": {},
   "outputs": [],
   "source": [
    "l401 = dfs400.iloc[0,0:21].tolist()\n",
    "l402 = dfs400.iloc[1,0:21].tolist()\n",
    "l403 = dfs400.iloc[2,0:21].tolist()\n",
    "vlr=1000000\n",
    "l401[:] = [x / vlr for x in l401]\n",
    "l402[:] = [x / vlr for x in l402]\n",
    "l403[:] = [x / vlr for x in l403]\n",
    "l401a = [round(num,2) for num in l401]\n",
    "l402a = [round(num,2) for num in l402]\n",
    "l403a = [round(num,2) for num in l403]"
   ]
  },
  {
   "cell_type": "markdown",
   "metadata": {},
   "source": [
    "Two graphs are presented: one with the general total and the total by sex. And the other with the total by sex, given that they are within the same range, around 20 million, remembering that immigrants are included."
   ]
  },
  {
   "cell_type": "code",
   "execution_count": 119,
   "metadata": {},
   "outputs": [
    {
     "data": {
      "image/png": "[encoded data removed]",
      "text/plain": [
       "<Figure size 1080x576 with 1 Axes>"
      ]
     },
     "metadata": {
      "needs_background": "light"
     },
     "output_type": "display_data"
    }
   ],
   "source": [
    "import numpy as np\n",
    "import matplotlib.pyplot as plt\n",
    "\n",
    "f = plt.figure()\n",
    "f.set_figwidth(15)\n",
    "f.set_figheight(8)\n",
    "plt.title(\"DISTRIBUIÇÃO POR SEXO NA ESPANHA(2002-2022)\")\n",
    "plt.xlabel(\"ANOS\")\n",
    "plt.ylabel(\"NÚMERO DE PESSOAS (EM MILHÕES)\")\n",
    "\n",
    "# Definir valores dos dados\n",
    "x = ['2002', '2003', '2004', '2005', '2006', '2007','2008','2009','2010','2011','2012','2013','2014','2015','2016','2017',\n",
    "     '2018','2019','2020','2021','2022']\n",
    "\n",
    "y = l401a\n",
    "z = l402a\n",
    "w = l403a\n",
    "\n",
    "# Plotar os gráficos\n",
    "plt.plot(x, y,label = 'TOTAL GERAL', color = \"blue\")\n",
    "plt.plot(x,z,label = 'TOTAL DE HOMENS', color = \"red\")\n",
    "plt.plot(x,w,label = 'TOTAL DE MULHERES', color = \"black\")\n",
    "plt.legend()\n",
    "plt.grid()\n",
    "\n",
    "# plt.yticks = ([5,10,15,20,25,30,35,40,45,50])\n",
    "\n",
    "plt.show()"
   ]
  },
  {
   "cell_type": "code",
   "execution_count": 120,
   "metadata": {},
   "outputs": [
    {
     "data": {
      "image/png": "[encoded data removed]",
      "text/plain": [
       "<Figure size 1080x576 with 1 Axes>"
      ]
     },
     "metadata": {
      "needs_background": "light"
     },
     "output_type": "display_data"
    }
   ],
   "source": [
    "import numpy as np\n",
    "import matplotlib.pyplot as plt\n",
    "\n",
    "f = plt.figure()\n",
    "f.set_figwidth(15)\n",
    "f.set_figheight(8)\n",
    "plt.title(\"DISTRIBUIÇÃO POR SEXO NA ESPANHA(2002-2022)\")\n",
    "plt.xlabel(\"ANOS\")\n",
    "plt.ylabel(\"NÚMERO DE PESSOAS (EM MILHÕES)\")\n",
    "\n",
    "# Definir valores dos dados\n",
    "x = ['2002', '2003', '2004', '2005', '2006', '2007','2008','2009','2010','2011','2012','2013','2014','2015','2016','2017',\n",
    "     '2018','2019','2020','2021','2022']\n",
    "\n",
    "# y = l401a\n",
    "z = l402a\n",
    "w = l403a\n",
    "\n",
    "# Plotar os gráficos\n",
    "# plt.plot(x, y,label = 'TOTAL GERAL', color = \"blue\")\n",
    "plt.plot(x,z,label = 'TOTAL DE HOMENS', color = \"red\")\n",
    "plt.plot(x,w,label = 'TOTAL DE MULHERES', color = \"blue\")\n",
    "plt.legend()\n",
    "plt.grid()\n",
    "\n",
    "# plt.yticks = ([5,10,15,20,25,30,35,40,45,50])\n",
    "\n",
    "plt.show()"
   ]
  },
  {
   "cell_type": "markdown",
   "metadata": {},
   "source": [
    "It is observed that the evolution of both sexes is **similar with the same curvature** and that the number of women is **always higher** than that of men, at least in the period from **2002** to **2022**.\n",
    "\n",
    "Next, we will prepare data for the elaboration of two age pyramids. We will use **dfs40** as a base, which contains 5757 rows and 42 columns and we will extract two dataframes: **df410** and which generated **df411**, considering the use of data referring to __01/2022__ . And the **df420**, which generated the **df422**, considering the data referring to __01/2002__.\n",
    "The objective is to compare the two pyramids."
   ]
  },
  {
   "cell_type": "code",
   "execution_count": 121,
   "metadata": {},
   "outputs": [],
   "source": [
    "# instruções dos dados de 01/2022\n",
    "df410=dfs40.iloc[3:160,0:2]\n",
    "df410.reset_index(drop=True, inplace=True)\n",
    "df411 = df410.iloc[0:76,0:2]\n",
    "\n",
    "# instruções dos dados de 01/2002.Vale destacar o uso de join para juntar dois dataframes, sendo um com o nome das linhas\n",
    "# e outro com os dados.\n",
    "\n",
    "df420=dfs40.iloc[3:160,41:42]\n",
    "df420a=dfs40.iloc[3:160,0:1]\n",
    "df421 =df420a.join(df420)\n",
    "df421.reset_index(drop=True, inplace=True)\n",
    "df422 = df421.iloc[0:76,0:2]"
   ]
  },
  {
   "cell_type": "markdown",
   "metadata": {},
   "source": [
    "We will now elaborate the __Population Pyramids__ considering the sexes and the age ranges. For this topic, let's do the following steps:\n",
    "- Create two lists to store the values of men and women.\n",
    "- Create the dictionary **dict411** with the keys **Age**, with the values filled in with the age ranges, and **Hombres** and **Mujeres**, with empty lists.\n",
    "- A **for** to extract the data of **Hombres** and **Mujeres** from **df411** and store in the created lists.\n",
    "- Addition of these data in the created dictionary.\n",
    "\n",
    "And then, the construction of the graph referring to **2022** and the graph referring to **2002**:"
   ]
  },
  {
   "cell_type": "code",
   "execution_count": 122,
   "metadata": {},
   "outputs": [],
   "source": [
    "list1=[]\n",
    "list2=[]\n",
    "\n",
    "dict411 = {'Idade': ['0-4','5-9','10-14','15-19','20-24','25-29','30-34','35-39','40-44','45-49','50-54','55-59',\n",
    "                            '60-64','65-69','70-74','75-79','80-84','85-89','90+'],'Hombres':[],'Mujeres':[]}\n",
    "for i in range(len(df411)):\n",
    "    if df411.iloc[i,0]=='Mujeres':\n",
    "         list1.append(df411.iloc[i,1])\n",
    "    elif df411.iloc[i,0]=='Hombres':\n",
    "         list2.append(0 - df411.iloc[i,1])\n",
    "            \n",
    "dict411['Mujeres'] = list1\n",
    "dict411['Hombres'] = list2    \n",
    "df411a=pd.DataFrame(dict411)   "
   ]
  },
  {
   "cell_type": "code",
   "execution_count": 123,
   "metadata": {},
   "outputs": [
    {
     "data": {
      "text/plain": [
       "[Text(0.5, 0, 'População (em milhões)'),\n",
       " Text(0, 0.5, 'Grupo-Idades'),\n",
       " Text(0.5, 1.0, 'Pirâmide Populacional da Espanha com dados de 01/2022\\n Em Azul : Homens; Em Vermelho : Mulheres')]"
      ]
     },
     "execution_count": 123,
     "metadata": {},
     "output_type": "execute_result"
    },
    {
     "data": {
      "image/png": "[encoded data removed]",
      "text/plain": [
       "<Figure size 864x576 with 1 Axes>"
      ]
     },
     "metadata": {
      "needs_background": "light"
     },
     "output_type": "display_data"
    }
   ],
   "source": [
    "import pandas as pd\n",
    "import matplotlib.pyplot as plt\n",
    "import numpy as np\n",
    "import seaborn as sns\n",
    "f = plt.figure()\n",
    "f.set_figwidth(12)\n",
    "f.set_figheight(8)\n",
    "\n",
    "\n",
    "AgeClass = ['90+','85-89','80-84','75-79','70-74','65-69','60-64','55-59','50-54','45-49',\n",
    "            '40-44','35-39','30-34','25-29','20-24','15-19','10-14','5-9','0-4']\n",
    "\n",
    "bar_plot = sns.barplot(x='Hombres', y='Idade', data=df411a, order=AgeClass,lw=0 ,color = \"blue\")\n",
    "\n",
    "bar_plot = sns.barplot(x='Mujeres', y='Idade', data=df411a, order=AgeClass,lw=0,color = \"red\" )\n",
    "\n",
    "bar_plot.set(xlabel=\"População (em milhões)\", ylabel=\"Grupo-Idades\", \n",
    "             title = \"Pirâmide Populacional da Espanha com dados de 01/2022\\n Em Azul : Homens; Em Vermelho : Mulheres\")"
   ]
  },
  {
   "cell_type": "code",
   "execution_count": 124,
   "metadata": {},
   "outputs": [],
   "source": [
    "list3=[]\n",
    "list4=[]\n",
    "\n",
    "dict422 = {'Idade': ['0-4','5-9','10-14','15-19','20-24','25-29','30-34','35-39','40-44','45-49','50-54','55-59',\n",
    "                            '60-64','65-69','70-74','75-79','80-84','85-89','90+'],'Hombres':[],'Mujeres':[]}\n",
    "for i in range(len(df422)):\n",
    "    if df422.iloc[i,0]=='Mujeres':\n",
    "         list3.append(df422.iloc[i,1])\n",
    "    elif df422.iloc[i,0]=='Hombres':\n",
    "         list4.append(0 - df422.iloc[i,1])\n",
    "            \n",
    "dict422['Mujeres'] = list3\n",
    "dict422['Hombres'] = list4    \n",
    "df422a=pd.DataFrame(dict422)   "
   ]
  },
  {
   "cell_type": "code",
   "execution_count": 125,
   "metadata": {},
   "outputs": [
    {
     "data": {
      "text/plain": [
       "[Text(0.5, 0, 'População (em milhões)'),\n",
       " Text(0, 0.5, 'Grupo-Idades'),\n",
       " Text(0.5, 1.0, 'Pirâmide Populacional da Espanha com dados de 01/2002\\n Em Azul : Homens; Em Vermelho : Mulheres')]"
      ]
     },
     "execution_count": 125,
     "metadata": {},
     "output_type": "execute_result"
    },
    {
     "data": {
      "image/png": "[encoded data removed]",
      "text/plain": [
       "<Figure size 864x576 with 1 Axes>"
      ]
     },
     "metadata": {
      "needs_background": "light"
     },
     "output_type": "display_data"
    }
   ],
   "source": [
    "import pandas as pd\n",
    "import matplotlib.pyplot as plt\n",
    "import numpy as np\n",
    "import seaborn as sns\n",
    "f = plt.figure()\n",
    "f.set_figwidth(12)\n",
    "f.set_figheight(8)\n",
    "\n",
    "\n",
    "AgeClass = ['90+','85-89','80-84','75-79','70-74','65-69','60-64','55-59','50-54','45-49',\n",
    "            '40-44','35-39','30-34','25-29','20-24','15-19','10-14','5-9','0-4']\n",
    "\n",
    "bar_plot = sns.barplot(x='Hombres', y='Idade', data=df422a, order=AgeClass,lw=0 ,color = \"blue\")\n",
    "\n",
    "bar_plot = sns.barplot(x='Mujeres', y='Idade', data=df422a, order=AgeClass,lw=0,color = \"red\" )\n",
    "\n",
    "bar_plot.set(xlabel=\"População (em milhões)\", ylabel=\"Grupo-Idades\", \n",
    "             title = \"Pirâmide Populacional da Espanha com dados de 01/2002\\n Em Azul : Homens; Em Vermelho : Mulheres\")\n"
   ]
  },
  {
   "cell_type": "markdown",
   "metadata": {},
   "source": [
    "As you can see, the population pyramids or **age pyramids** have a:\n",
    "- **Top**: representing the elderly population.\n",
    "- **Body**: representing the adult population.\n",
    "- **Base**: representing the young population.\n",
    "\n",
    "Some considerations regarding both pyramids:\n",
    "\n",
    "- The top of the 2022 pyramid, where the elderly are represented, is wider than that of 2002, denoting a high life expectancy, and, in other words, a low **mortality rate**.\n",
    "- The base of the pyramid in 2022 is slightly lower than in 2002, showing stability with a slight downward trend in the **birth rate**.\n",
    "- The 2022 pyramid body has a higher concentration in the 40-50 age group, while the 2002 pyramid has a greater concentration in the 20-40 age group. The body depicts the economically active population.\n",
    "\n",
    "As a conclusion, the pyramids shown here, even considering immigrants, present the style of developed countries where a low birth rate is perceived, which represents a possible lack of labor, and a low mortality rate, which represents a necessary greater government effort with welfare expenditures.\n",
    "Another concern of the government must be the incentives for immigration, basically aiming at labor and an increase in the birth rate.\n",
    "\n",
    "Let's evolve a little more in understanding the pyramids. Let's get data from __1972__ to build an age pyramid and be able to compare with that of __2022__. The information is on the website:\n",
    "\n",
    "                            https://www.ine.es/jaxiT3/files/t/es/xlsx/10256.xlsx?nocab=1\n",
    "\n",
    "\n",
    "Next, we will prepare the data for the elaboration of the pyramid:"
   ]
  },
  {
   "cell_type": "code",
   "execution_count": 128,
   "metadata": {},
   "outputs": [
    {
     "data": {
      "text/plain": [
       "[Text(0.5, 0, 'População (em milhares)'),\n",
       " Text(0, 0.5, 'Idades de 0 a 84'),\n",
       " Text(0.5, 1.0, 'Pirâmide Populacional da Espanha com dados de 01/1972 (Em Azul : Homens; Em Vermelho : Mulheres)')]"
      ]
     },
     "execution_count": 128,
     "metadata": {},
     "output_type": "execute_result"
    },
    {
     "data": {
      "image/png": "[encoded data removed]",
      "text/plain": [
       "<Figure size 864x1296 with 1 Axes>"
      ]
     },
     "metadata": {
      "needs_background": "light"
     },
     "output_type": "display_data"
    }
   ],
   "source": [
    "import pandas as pd\n",
    "import matplotlib.pyplot as plt\n",
    "import numpy as np\n",
    "import seaborn as sns\n",
    "import locale\n",
    "from datetime import datetime as dt\n",
    "\n",
    "# instruções para baixar os dados em xlsx\n",
    "url50_estatica=\"https://www.ine.es/jaxiT3/files/t/es/xlsx/10256.xlsx?nocab=1\"\n",
    "dfs50 = pd.read_excel(url50_estatica, header=None,skiprows=[0,1,2,3,4,5])\n",
    "dfs50.iloc[:,0]=dfs50.iloc[:,0].str.lstrip()\n",
    "\n",
    "# instruções para alterar formato das datas\n",
    "\n",
    "locale.setlocale(locale.LC_TIME, 'es_ES')\n",
    "# o for está sendo utilizado para alterar o formato das datas constantes nas labels das colunas\n",
    "# alterando, por exemplo, de 1 de enero de 2022 para 01/2022\n",
    "for i in dfs50.columns:\n",
    "    if i > 0:\n",
    "        dd = dfs50.loc[0,i]\n",
    "        datetime_object = dt.strptime(dd,'%d de %B de %Y')\n",
    "        gg = datetime_object.strftime(\"%m/%Y\")\n",
    "        dfs50.loc[0,i]=gg\n",
    "dfs50.columns = dfs50.iloc[0]\n",
    "dfs50.drop([0], axis=0, inplace = True)\n",
    "# a instrução a seguir vai selecionar os dados necessários de dfs50 considerando ano de 1971\n",
    "df500=dfs50.iloc[1:436,:]\n",
    "df500a=df500.iloc[:,0:1]\n",
    "df500b=df500.iloc[:,103:104]\n",
    "df501=df500a.join(df500b)\n",
    "df501.reset_index(drop=True, inplace=True)\n",
    "df502 = df501.iloc[3:343,0:2]\n",
    "# a instrução a seguir prepara um dataframe df503 com os dados de homens e mulheres.\n",
    "list5=[]\n",
    "list6=[]\n",
    "#a instrução a seguir elabora o gráfico\n",
    "dict502 = {'Idade': ['0','1','2','3','4','5','6','7','8','9','10','11','12','13','14','15','16','17','18','19','20',\n",
    "'21','22','23','24','25','26','27','28','29','30','31','32','33','34','35','36','37','38','39','40',\n",
    "'41','42','43','44','45','46','47','48','49','50','51','52','53','54','55','56','57','58','59','60',\n",
    "'61','62','63','64','65','66','67','68','69','70','71','72','73','74','75','76','77','78','79','80',\n",
    "'81','82','83','84'],'Hombres':[],'Mujeres':[]}\n",
    "for i in range(len(df502)):\n",
    "    if df502.iloc[i,0]=='Mujeres':\n",
    "         list5.append(df502.iloc[i,1])\n",
    "    elif df502.iloc[i,0]=='Hombres':\n",
    "         list6.append(0 - df502.iloc[i,1])\n",
    "\n",
    "# instrução para o gráfico            \n",
    "\n",
    "dict502['Mujeres'] = list5\n",
    "dict502['Hombres'] = list6    \n",
    "df503=pd.DataFrame(dict502) \n",
    "\n",
    "\n",
    "f = plt.figure()\n",
    "f.set_figwidth(12)\n",
    "f.set_figheight(18)\n",
    "\n",
    "\n",
    "AgeClass = ['84','83','82','81','80','79','78','77','76','75','75','73','72','71','70','69','68','67','66','65','64',\n",
    "           '63','62','61','60','59','58','57','56','55','54','53','52','51','50','49','48','47','46','45','44',\n",
    "           '43','42','41','40','39','38','37','36','35','34','33','32','31','30','29','28','27','26','25','24',\n",
    "           '23','22','21','20','19','18','17','16','15','14','13','12','11','10','9','8','7','6','5','4',\n",
    "           '3','2','1','0']\n",
    "\n",
    "bar_plot = sns.barplot(x='Hombres', y='Idade', data=df503, order=AgeClass,lw=0 ,color = \"blue\")\n",
    "\n",
    "bar_plot = sns.barplot(x='Mujeres', y='Idade', data=df503, order=AgeClass,lw=0,color = \"red\" )\n",
    "\n",
    "bar_plot.set(xlabel=\"População (em milhares)\", ylabel=\"Idades de 0 a 84\", \n",
    "             title = \"Pirâmide Populacional da Espanha com dados de 01/1972 (Em Azul : Homens; Em Vermelho : Mulheres)\")"
   ]
  },
  {
   "cell_type": "markdown",
   "metadata": {},
   "source": [
    "Observing the pyramid generated with INE data for **1971**, it can be seen that they are designated by each year and not by a group of years. For the purpose of comparison with the other elaborate pyramids, a visual analysis would be somewhat difficult.\n",
    "\n",
    "Therefore, I created a code that, based on the data, already worked on and which are portrayed in **df502**, would group together for a **5-year interval**, as it is in the other pyramids, adding the items related to **each year**.\n",
    "\n",
    "The last age in 01/1971, which makes a difference of close to **50 years** for the current year, was 84 years old, but which makes it possible to compare the pyramids. The following instruction deals with the collection of the **df502** until the elaboration of the **df5021**, used for the elaboration of the graph."
   ]
  },
  {
   "cell_type": "code",
   "execution_count": 129,
   "metadata": {},
   "outputs": [
    {
     "data": {
      "text/plain": [
       "[Text(0.5, 0, 'População (em milhões)'),\n",
       " Text(0, 0.5, 'Grupo-Idades'),\n",
       " Text(0.5, 1.0, 'Pirâmide Populacional da Espanha com dados de 01/1971\\n Em Azul : Homens; Em Vermelho : Mulheres')]"
      ]
     },
     "execution_count": 129,
     "metadata": {},
     "output_type": "execute_result"
    },
    {
     "data": {
      "image/png": "[encoded data removed]",
      "text/plain": [
       "<Figure size 864x576 with 1 Axes>"
      ]
     },
     "metadata": {
      "needs_background": "light"
     },
     "output_type": "display_data"
    }
   ],
   "source": [
    "import pandas as pd\n",
    "import matplotlib.pyplot as plt\n",
    "import numpy as np\n",
    "import seaborn as sns\n",
    "\n",
    "\n",
    "list31=[]\n",
    "list41=[]\n",
    "\n",
    "\n",
    "dict5021 = {'Idade': ['0-4','5-9','10-14','15-19','20-24','25-29','30-34','35-39','40-44','45-49','50-54','55-59',\n",
    "                            '60-64','65-69','70-74','75-79','80-84'],'Hombres':[],'Mujeres':[]}\n",
    "for i in range(len(df502)):\n",
    "    if df502.iloc[i,0]=='Mujeres':\n",
    "        \n",
    "        list31.append(df502.iloc[i,1])\n",
    "\n",
    "    elif df502.iloc[i,0]=='Hombres':\n",
    "        \n",
    "        list41.append(df502.iloc[i,1])\n",
    "\n",
    "# instruções para mulheres       \n",
    "        \n",
    "# valor da quantidade de loops\n",
    "\n",
    "bb=int(len(list31)/5)\n",
    "\n",
    "# lista para armazenar os números para serem somados em um total de 5.\n",
    "listfg10=[]\n",
    "\n",
    "# lista que irá mostrar o resultado final depois da soma de cada 5 anos\n",
    "listfg1000=[]\n",
    "\n",
    "# lista que será usada para armazenar a soma de cada grupo\n",
    "list_a =[]       \n",
    "\n",
    "# For para 'mulheres'\n",
    "\n",
    "for z in range(bb):\n",
    "    listfg10.append(list31[0])\n",
    "    listfg10.append(list31[1])\n",
    "    listfg10.append(list31[2])\n",
    "    list_a = sum(listfg10)\n",
    "    del list31[0:5]\n",
    "    listfg1000.append(list_a)\n",
    "    listfg10.clear()\n",
    "\n",
    "    \n",
    "# Intruções para homens\n",
    "\n",
    "# valor da quantidade de loops\n",
    "\n",
    "bb1=int(len(list41)/5)\n",
    "\n",
    "# lista para armazenar os números para serem somados em um total de 5.\n",
    "listfg11=[]\n",
    "\n",
    "# lista que irá mostrar o resultado final depois da soma de cada 5 anos\n",
    "listfg1100=[]\n",
    "\n",
    "# lista que será usada para armazenar a soma de cada grupo\n",
    "list_a1 =[]       \n",
    "\n",
    "# For para 'homens'\n",
    "\n",
    "for z in range(bb1):\n",
    "    listfg11.append(list41[0])\n",
    "    listfg11.append(list41[1])\n",
    "    listfg11.append(list41[2])\n",
    "    list_a1 = sum(listfg11)\n",
    "    del list41[0:5]\n",
    "    listfg1100.append(0 - list_a1)\n",
    "    listfg11.clear()\n",
    "\n",
    "    \n",
    "dict5021['Mujeres'] = listfg1000\n",
    "dict5021['Hombres'] = listfg1100  \n",
    "df5021=pd.DataFrame(dict5021)  \n",
    "#Elaboração do grafico\n",
    "\n",
    "f = plt.figure()\n",
    "f.set_figwidth(12)\n",
    "f.set_figheight(8)\n",
    "\n",
    "\n",
    "AgeClass = ['80-84','75-79','70-74','65-69','60-64','55-59','50-54','45-49',\n",
    "            '40-44','35-39','30-34','25-29','20-24','15-19','10-14','5-9','0-4']\n",
    "\n",
    "bar_plot = sns.barplot(x='Hombres', y='Idade', data=df5021, order=AgeClass,lw=0 ,color = \"blue\")\n",
    "\n",
    "bar_plot = sns.barplot(x='Mujeres', y='Idade', data=df5021, order=AgeClass,lw=0,color = \"red\" )\n",
    "\n",
    "bar_plot.set(xlabel=\"População (em milhões)\", ylabel=\"Grupo-Idades\", \n",
    "             title = \"Pirâmide Populacional da Espanha com dados de 01/1971\\n Em Azul : Homens; Em Vermelho : Mulheres\")\n"
   ]
  },
  {
   "attachments": {
    "image-2.png": {
     "image/png": "[encoded data removed]"
    },
    "image.png": {
     "image/png": "[encoded data removed]"
    }
   },
   "cell_type": "markdown",
   "metadata": {},
   "source": [
    "By taking a \"picture\" of the three pyramids and putting them together, it is possible to make some important observations:\n",
    "\n",
    "![image.png](attachment:image.png)\n",
    "\n",
    "The __pyramid of 1971__ has a wider base, meaning an apparently high birth rate, a body with an emphasis on the 35-50 age range, and a narrow top, but in the over 80 age range, not yet meaning a high mortality rate.\n",
    "\n",
    "The __pyramid of 2002__ has a narrower base meaning a declining birth rate compared to 1971, a body with emphasis on the 20-45 age group and a narrower top but for ages over 85 .\n",
    "\n",
    "The __pyramid of 2022__ has a narrower base, compared to the previous ones, meaning a still declining birth rate, a body with an emphasis on the 40-60 age group and a less narrow top for ages over 85, meaning a lower mortality rate.\n",
    "\n",
    "As a conclusion, I can say that the evolution of these pyramids meets the need for government policies to be focused on improving/maintaining access to basic conditions, such as health, education and qualified training for the job market, in addition to the encouraging immigration to increase the birth rate, in addition to the economically active population (body of the pyramid) aiming at a vision of the future.\n",
    "\n",
    "See more about \"Age Pyramids\" at:\n",
    "\n",
    "                            https://brasilescola.uol.com.br/geografia/piramides-etarias.htm\n",
    "\n",
    "Let's now take a look at **Linear Regression**.\n",
    "\n",
    "What is **Linear Regression**?\n",
    "\n",
    "Linear regression models the relationships between at least one explanatory or independent variable and an outcome or dependent variable.\n",
    "\n",
    "When there is **an independent variable**, the procedure is known as **Simple Linear Regression**. When there are more independent variables, statisticians refer to this as **Multiple Regression**.\n",
    "\n",
    "In our case the **independent variable** is the **time** (in years) plotted on the **x-axis** and the **dependent variable** is the **population (in number of people)** located on the **y axis**.\n",
    "\n",
    "This formatting has been used in the charts used so far. Let's start from the **dfs400** dataframe to create a dataframe in a more suitable format to build the chart, using the **Seaborn** library. This dataframe is **dfs4000**.\n",
    "\n",
    "When drawing up the graph, it becomes interesting to observe the behavior by changing the value of **order**. For **order = 1**, the regression is presented as a straight line, for **order=2**, the regression is presented as a curve. With **order=3**, the regression is at its best and compared to the points.\n",
    "Remembering that an __xy equation__ of order = 1 is a first degree equation, order = 2 is a second degree equation and order=3 is a third degree equation, or cubic equation. So order is the degree of the equation. The following figure summarizes this:\n",
    "![image-2.png](attachment:image-2.png)\n",
    "\n",
    "From the observation of the graphs, the most appropriate regression is the Polynomial:"
   ]
  },
  {
   "cell_type": "code",
   "execution_count": 131,
   "metadata": {},
   "outputs": [
    {
     "data": {
      "text/html": [
       "<div>\n",
       "<style scoped>\n",
       "    .dataframe tbody tr th:only-of-type {\n",
       "        vertical-align: middle;\n",
       "    }\n",
       "\n",
       "    .dataframe tbody tr th {\n",
       "        vertical-align: top;\n",
       "    }\n",
       "\n",
       "    .dataframe thead th {\n",
       "        text-align: right;\n",
       "    }\n",
       "</style>\n",
       "<table border=\"1\" class=\"dataframe\">\n",
       "  <thead>\n",
       "    <tr style=\"text-align: right;\">\n",
       "      <th></th>\n",
       "      <th>01/2002</th>\n",
       "      <th>01/2003</th>\n",
       "      <th>01/2004</th>\n",
       "      <th>01/2005</th>\n",
       "      <th>01/2006</th>\n",
       "      <th>01/2007</th>\n",
       "      <th>01/2008</th>\n",
       "      <th>01/2009</th>\n",
       "      <th>01/2010</th>\n",
       "      <th>01/2011</th>\n",
       "      <th>...</th>\n",
       "      <th>01/2014</th>\n",
       "      <th>01/2015</th>\n",
       "      <th>01/2016</th>\n",
       "      <th>01/2017</th>\n",
       "      <th>01/2018</th>\n",
       "      <th>01/2019</th>\n",
       "      <th>01/2020</th>\n",
       "      <th>01/2021</th>\n",
       "      <th>01/2022</th>\n",
       "      <th></th>\n",
       "    </tr>\n",
       "  </thead>\n",
       "  <tbody>\n",
       "    <tr>\n",
       "      <th>1</th>\n",
       "      <td>41035271</td>\n",
       "      <td>41827836</td>\n",
       "      <td>42547454</td>\n",
       "      <td>43296335</td>\n",
       "      <td>44009969</td>\n",
       "      <td>44784659</td>\n",
       "      <td>45668938</td>\n",
       "      <td>46239271</td>\n",
       "      <td>46486621</td>\n",
       "      <td>46667175</td>\n",
       "      <td>...</td>\n",
       "      <td>46512199</td>\n",
       "      <td>46449565</td>\n",
       "      <td>46440099</td>\n",
       "      <td>46527039</td>\n",
       "      <td>46658447</td>\n",
       "      <td>46937060</td>\n",
       "      <td>47332614</td>\n",
       "      <td>47398695</td>\n",
       "      <td>47432805</td>\n",
       "      <td>Ambos sexos</td>\n",
       "    </tr>\n",
       "    <tr>\n",
       "      <th>2</th>\n",
       "      <td>20115522</td>\n",
       "      <td>20542468</td>\n",
       "      <td>20924581</td>\n",
       "      <td>21335283</td>\n",
       "      <td>21719317</td>\n",
       "      <td>22118970</td>\n",
       "      <td>22591484</td>\n",
       "      <td>22880534</td>\n",
       "      <td>22982272</td>\n",
       "      <td>23049476</td>\n",
       "      <td>...</td>\n",
       "      <td>22877461</td>\n",
       "      <td>22826546</td>\n",
       "      <td>22807464</td>\n",
       "      <td>22834227</td>\n",
       "      <td>22881882</td>\n",
       "      <td>23009259</td>\n",
       "      <td>23199313</td>\n",
       "      <td>23227282</td>\n",
       "      <td>23236999</td>\n",
       "      <td>Hombres</td>\n",
       "    </tr>\n",
       "    <tr>\n",
       "      <th>3</th>\n",
       "      <td>20919749</td>\n",
       "      <td>21285368</td>\n",
       "      <td>21622873</td>\n",
       "      <td>21961052</td>\n",
       "      <td>22290652</td>\n",
       "      <td>22665689</td>\n",
       "      <td>23077454</td>\n",
       "      <td>23358736</td>\n",
       "      <td>23504349</td>\n",
       "      <td>23617698</td>\n",
       "      <td>...</td>\n",
       "      <td>23634738</td>\n",
       "      <td>23623019</td>\n",
       "      <td>23632635</td>\n",
       "      <td>23692812</td>\n",
       "      <td>23776565</td>\n",
       "      <td>23927801</td>\n",
       "      <td>24133301</td>\n",
       "      <td>24171413</td>\n",
       "      <td>24195806</td>\n",
       "      <td>Mujeres</td>\n",
       "    </tr>\n",
       "  </tbody>\n",
       "</table>\n",
       "<p>3 rows × 22 columns</p>\n",
       "</div>"
      ],
      "text/plain": [
       "0   01/2002   01/2003   01/2004   01/2005   01/2006   01/2007   01/2008  \\\n",
       "1  41035271  41827836  42547454  43296335  44009969  44784659  45668938   \n",
       "2  20115522  20542468  20924581  21335283  21719317  22118970  22591484   \n",
       "3  20919749  21285368  21622873  21961052  22290652  22665689  23077454   \n",
       "\n",
       "0   01/2009   01/2010   01/2011  ...   01/2014   01/2015   01/2016   01/2017  \\\n",
       "1  46239271  46486621  46667175  ...  46512199  46449565  46440099  46527039   \n",
       "2  22880534  22982272  23049476  ...  22877461  22826546  22807464  22834227   \n",
       "3  23358736  23504349  23617698  ...  23634738  23623019  23632635  23692812   \n",
       "\n",
       "0   01/2018   01/2019   01/2020   01/2021   01/2022               \n",
       "1  46658447  46937060  47332614  47398695  47432805  Ambos sexos  \n",
       "2  22881882  23009259  23199313  23227282  23236999      Hombres  \n",
       "3  23776565  23927801  24133301  24171413  24195806      Mujeres  \n",
       "\n",
       "[3 rows x 22 columns]"
      ]
     },
     "execution_count": 131,
     "metadata": {},
     "output_type": "execute_result"
    }
   ],
   "source": [
    "dfs400.head(4)"
   ]
  },
  {
   "cell_type": "code",
   "execution_count": 132,
   "metadata": {},
   "outputs": [
    {
     "data": {
      "image/png": "[encoded data removed]",
      "text/plain": [
       "<Figure size 864x576 with 1 Axes>"
      ]
     },
     "metadata": {
      "needs_background": "light"
     },
     "output_type": "display_data"
    }
   ],
   "source": [
    "import math\n",
    "import seaborn as sns\n",
    "from scipy import stats\n",
    "f = plt.figure()\n",
    "f.set_figwidth(12)\n",
    "f.set_figheight(8)\n",
    "# Esta será a lista com os anos\n",
    "list30=[]\n",
    "# Esta será a lista com a população de 2001 até 2022\n",
    "list40=[]\n",
    "list30=dfs400.columns.tolist()\n",
    "list30.remove('')\n",
    "ch = '01/'\n",
    "list30 = [elem.replace(ch, '') for elem in list30]\n",
    "# list30a=[0,1,2,3,4,5,6,7,8,9,10,11,12,13,14,15,16,17,18,19,20]\n",
    "list30a = [eval(i) for i in list30]\n",
    "\n",
    "for x in range(len(dfs400.iloc[0,0:21])):\n",
    "    list40.append(int(dfs400.iloc[0,x]))\n",
    "        \n",
    "meuInt = 1000000\n",
    "list41 = [x / meuInt for x in list40]\n",
    "\n",
    "\n",
    "dict550={\"ANO\":list30a,\"POP\":list41}\n",
    "dfs4000=pd.DataFrame(dict550)\n",
    "\n",
    "dfs4000.reset_index(inplace=True)\n",
    "inclinação, intercept, rvalue, pvalue, stderr = stats.linregress(dfs4000['ANO'],dfs4000['POP'])\n",
    "ax=sns.regplot(x='ANO',y='POP',data=dfs4000, order=3)\n",
    "\n"
   ]
  },
  {
   "cell_type": "code",
   "execution_count": 134,
   "metadata": {},
   "outputs": [
    {
     "data": {
      "text/html": [
       "<div>\n",
       "<style scoped>\n",
       "    .dataframe tbody tr th:only-of-type {\n",
       "        vertical-align: middle;\n",
       "    }\n",
       "\n",
       "    .dataframe tbody tr th {\n",
       "        vertical-align: top;\n",
       "    }\n",
       "\n",
       "    .dataframe thead th {\n",
       "        text-align: right;\n",
       "    }\n",
       "</style>\n",
       "<table border=\"1\" class=\"dataframe\">\n",
       "  <thead>\n",
       "    <tr style=\"text-align: right;\">\n",
       "      <th></th>\n",
       "      <th>index</th>\n",
       "      <th>ANO</th>\n",
       "      <th>POP</th>\n",
       "    </tr>\n",
       "  </thead>\n",
       "  <tbody>\n",
       "    <tr>\n",
       "      <th>0</th>\n",
       "      <td>0</td>\n",
       "      <td>2002</td>\n",
       "      <td>41.04</td>\n",
       "    </tr>\n",
       "    <tr>\n",
       "      <th>1</th>\n",
       "      <td>1</td>\n",
       "      <td>2003</td>\n",
       "      <td>41.83</td>\n",
       "    </tr>\n",
       "    <tr>\n",
       "      <th>2</th>\n",
       "      <td>2</td>\n",
       "      <td>2004</td>\n",
       "      <td>42.55</td>\n",
       "    </tr>\n",
       "    <tr>\n",
       "      <th>3</th>\n",
       "      <td>3</td>\n",
       "      <td>2005</td>\n",
       "      <td>43.30</td>\n",
       "    </tr>\n",
       "    <tr>\n",
       "      <th>4</th>\n",
       "      <td>4</td>\n",
       "      <td>2006</td>\n",
       "      <td>44.01</td>\n",
       "    </tr>\n",
       "  </tbody>\n",
       "</table>\n",
       "</div>"
      ],
      "text/plain": [
       "   index   ANO   POP\n",
       "0      0  2002 41.04\n",
       "1      1  2003 41.83\n",
       "2      2  2004 42.55\n",
       "3      3  2005 43.30\n",
       "4      4  2006 44.01"
      ]
     },
     "execution_count": 134,
     "metadata": {},
     "output_type": "execute_result"
    }
   ],
   "source": [
    "dfs4000.head()"
   ]
  },
  {
   "cell_type": "code",
   "execution_count": 133,
   "metadata": {},
   "outputs": [
    {
     "name": "stdout",
     "output_type": "stream",
     "text": [
      "[ 2.29130876e-03 -1.38549092e+01  2.79256281e+04 -1.87620522e+07]\n",
      "--------------------------------------------------------------\n",
      "          3         2\n",
      "0.002291 x - 13.85 x + 2.793e+04 x - 1.876e+07\n"
     ]
    }
   ],
   "source": [
    "import numpy as np\n",
    "x = dfs4000['ANO']\n",
    "y = dfs4000['POP']\n",
    "# Aqui vamos usar a polinomial de terceiro grau(cubico) \n",
    "f = np.polyfit(x, y, 3)\n",
    "print(f)\n",
    "print('--------------------------------------------------------------')\n",
    "p = np.poly1d(f)\n",
    "print(p)"
   ]
  },
  {
   "attachments": {
    "image-2.png": {
     "image/png": "[encoded data removed]"
    }
   },
   "cell_type": "markdown",
   "metadata": {},
   "source": [
    "So the polynomial function is:\n",
    "![image-2.png](attachment:image-2.png)\n",
    "\n",
    "Therefore, from the figure in the graph, it can be observed that the **Third Order Polynomial Regression** fits more precisely to the population data from Spain."
   ]
  },
  {
   "cell_type": "markdown",
   "metadata": {},
   "source": [
    "## Conclusions:\n",
    "\n",
    "In this jupyter notebook, I explored extracting HTML data as well as xlsx files, thus showing the versatility in obtaining data for analysis. I tried to present the preparation of the raw data for its use and, therefore, its outstanding importance.\n",
    "I also tried to address specific themes, some demographic phenomena such as the Age Pyramid and the conclusions that can be drawn, such as population aging, low birth rates, among others. I also made a demo about Regression, which is a topic often discussed in Machine Learning issues.\n",
    "\n",
    "And again, the development here was made observing pedagogical aspects and with due science that may not have been the best option, but the option that appeared.\n",
    "\n",
    "In the next Jupyter Notebook we will work on INE data to verify the demographic evolution related to the Autonomous Communities, Provinces and Municipalities, in addition to proceeding with questions about Linear Regression."
   ]
  }
 ],
 "metadata": {
  "kernelspec": {
   "display_name": "Python 3",
   "language": "python",
   "name": "python3"
  },
  "language_info": {
   "codemirror_mode": {
    "name": "ipython",
    "version": 3
   },
   "file_extension": ".py",
   "mimetype": "text/x-python",
   "name": "python",
   "nbconvert_exporter": "python",
   "pygments_lexer": "ipython3",
   "version": "3.8.5"
  }
 },
 "nbformat": 4,
 "nbformat_minor": 4
}
